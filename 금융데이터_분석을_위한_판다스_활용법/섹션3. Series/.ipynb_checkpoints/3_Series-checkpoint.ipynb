{
 "cells": [
  {
   "cell_type": "markdown",
   "id": "de506b0f-238e-4114-acf8-f4f8a00d7d93",
   "metadata": {},
   "source": [
    "# 1. Series"
   ]
  },
  {
   "cell_type": "markdown",
   "id": "bc29d568-b641-4d0c-8261-43051161a09e",
   "metadata": {},
   "source": [
    "* Series란?\n",
    "Data의 컬럼이 1개인 구조, index(행)과 1개의 열로 구성  \n",
    "-> 열이 여러개면 DataFrame이 됨"
   ]
  },
  {
   "cell_type": "markdown",
   "id": "9dae640f-a80b-45a4-93e1-be1ae41ed194",
   "metadata": {
    "jp-MarkdownHeadingCollapsed": true
   },
   "source": [
    "## 1.1 Series 만드는 법\n",
    "\n",
    "* pd.Series()에 Datatype이 list, dict인 구조로 만들 수 있음\n",
    "* 딕셔너리의 경우 key, value가 함께 만들어짐"
   ]
  },
  {
   "cell_type": "code",
   "execution_count": 6,
   "id": "9c5fc08c-110f-4a0f-adaa-74d16b01fd38",
   "metadata": {},
   "outputs": [],
   "source": [
    "# 판다스 불러오가\n",
    "import pandas as pd"
   ]
  },
  {
   "cell_type": "code",
   "execution_count": 14,
   "id": "f1378784-5831-4003-94ff-8050b9bd807c",
   "metadata": {},
   "outputs": [
    {
     "name": "stdout",
     "output_type": "stream",
     "text": [
      "0    1\n",
      "1    2\n",
      "2    3\n",
      "3    4\n",
      "4    5\n",
      "5    6\n",
      "6    7\n",
      "7    8\n",
      "8    9\n",
      "dtype: int64\n",
      "0        1\n",
      "1        2\n",
      "2        3\n",
      "3    apple\n",
      "4     play\n",
      "5        6\n",
      "6        7\n",
      "7        8\n",
      "8        9\n",
      "dtype: object\n"
     ]
    }
   ],
   "source": [
    "# Data Type이 리스트인 경우\n",
    "list1 = [1, 2, 3, 4, 5, 6, 7, 8, 9]\n",
    "list2 = [1, 2, 3, 'apple', 'play', 6, 7, 8, 9]\n",
    "\n",
    "sr1 = pd.Series(list1) # pd.Series(대상 데이터)\n",
    "print(sr1)\n",
    "\n",
    "sr2 = pd.Series(list2) # value의 타입이 달라도 상관 없음\n",
    "print(sr2)"
   ]
  },
  {
   "cell_type": "code",
   "execution_count": 18,
   "id": "1b4b7104-2790-4e26-8061-0607c5a4c5d0",
   "metadata": {},
   "outputs": [
    {
     "name": "stdout",
     "output_type": "stream",
     "text": [
      "0    1\n",
      "1    2\n",
      "2    3\n",
      "3    4\n",
      "4    5\n",
      "5    6\n",
      "6    7\n",
      "7    8\n",
      "8    9\n",
      "Name: Number, dtype: int64\n",
      "0        1\n",
      "1        2\n",
      "2        3\n",
      "3    apple\n",
      "4     play\n",
      "5        6\n",
      "6        7\n",
      "7        8\n",
      "8        9\n",
      "Name: Word, dtype: object\n"
     ]
    }
   ],
   "source": [
    "# Series에 Name 설정\n",
    "\n",
    "sr1.name = \"Number\" # Value열의 이름을 설정\n",
    "sr2.name = \"Word\"\n",
    "\n",
    "print(sr1)\n",
    "print(sr2)"
   ]
  },
  {
   "cell_type": "code",
   "execution_count": 28,
   "id": "3fbf8572-b4f6-4ef7-a2db-fb03f5cdd9db",
   "metadata": {},
   "outputs": [
    {
     "name": "stdout",
     "output_type": "stream",
     "text": [
      "a    1\n",
      "b    2\n",
      "c    3\n",
      "d    4\n",
      "Name: Number, dtype: int64\n"
     ]
    }
   ],
   "source": [
    "# Data Type이 딕셔너리인 경우\n",
    "dic1 = {\"a\": 1, \"b\": 2, \"c\": 3, \"d\": 4}\n",
    "\n",
    "sr3 = pd.Series(dic1)\n",
    "sr3.name = \"Number\"\n",
    "print(sr3)"
   ]
  },
  {
   "cell_type": "markdown",
   "id": "25db61ea-73c1-4ff6-a940-c1ed161f6eac",
   "metadata": {},
   "source": [
    "* key값이 index로<br>\n",
    "* value값이 값으로 들어가는 것을 볼 수 있음"
   ]
  },
  {
   "cell_type": "markdown",
   "id": "3ee41abb-3069-4691-9bc5-8c928cacbfb7",
   "metadata": {
    "jp-MarkdownHeadingCollapsed": true
   },
   "source": [
    "## 1.2 삼성전자 종가 Series로 불러오기"
   ]
  },
  {
   "cell_type": "markdown",
   "id": "d4c6ed63-0875-48b1-9d90-46fe57121433",
   "metadata": {},
   "source": [
    "pd.read_csv() 함수에서 주로 사용하는 요소들을 공부\n",
    "* path: 파일 경로\n",
    "* index_col: index로 지정할 컬럼\n",
    "* squezze: Series로 지정할지 여부\n",
    "* header: 헤더값의 index"
   ]
  },
  {
   "cell_type": "code",
   "execution_count": 46,
   "id": "c668efbe-8cc2-452d-bb97-91b20b4e3b37",
   "metadata": {},
   "outputs": [
    {
     "name": "stdout",
     "output_type": "stream",
     "text": [
      "           Date  Close\n",
      "0    2018-01-02  51020\n",
      "1    2018-01-03  51620\n",
      "2    2018-01-04  51080\n",
      "3    2018-01-05  52120\n",
      "4    2018-01-08  52020\n",
      "..          ...    ...\n",
      "972  2021-12-13  76800\n",
      "973  2021-12-14  77000\n",
      "974  2021-12-15  77600\n",
      "975  2021-12-16  77800\n",
      "976  2021-12-17  78000\n",
      "\n",
      "[977 rows x 2 columns]\n"
     ]
    },
    {
     "data": {
      "text/plain": [
       "pandas.core.frame.DataFrame"
      ]
     },
     "execution_count": 46,
     "metadata": {},
     "output_type": "execute_result"
    }
   ],
   "source": [
    "import pandas as pd\n",
    "\n",
    "a = pd.read_csv(\"삼성전자 종가.csv\") # 파일 주소로 불러오기(절대 주소, 상대 주소 모두 가능)\n",
    "print(a)\n",
    "type(a) # 이 경우 열이 2개이기 때문에 데이터프레임 타입임"
   ]
  },
  {
   "cell_type": "code",
   "execution_count": 54,
   "id": "d589fe44-3c1f-48dc-a95c-0e7b52cb0667",
   "metadata": {},
   "outputs": [
    {
     "name": "stdout",
     "output_type": "stream",
     "text": [
      "            Close\n",
      "Date             \n",
      "2018-01-02  51020\n",
      "2018-01-03  51620\n",
      "2018-01-04  51080\n",
      "2018-01-05  52120\n",
      "2018-01-08  52020\n",
      "...           ...\n",
      "2021-12-13  76800\n",
      "2021-12-14  77000\n",
      "2021-12-15  77600\n",
      "2021-12-16  77800\n",
      "2021-12-17  78000\n",
      "\n",
      "[977 rows x 1 columns]\n"
     ]
    },
    {
     "data": {
      "text/plain": [
       "pandas.core.frame.DataFrame"
      ]
     },
     "execution_count": 54,
     "metadata": {},
     "output_type": "execute_result"
    }
   ],
   "source": [
    "a = pd.read_csv(\"삼성전자 종가.csv\", index_col = 0) # 0번째 열이 index가 됨\n",
    "print(a)\n",
    "type(a) # 하지만 이 경우에도 타입은 df"
   ]
  },
  {
   "cell_type": "code",
   "execution_count": 60,
   "id": "10aa221a-31ec-41b8-993a-21f2ff49aa74",
   "metadata": {},
   "outputs": [
    {
     "name": "stdout",
     "output_type": "stream",
     "text": [
      "Date\n",
      "2018-01-02    51020\n",
      "2018-01-03    51620\n",
      "2018-01-04    51080\n",
      "2018-01-05    52120\n",
      "2018-01-08    52020\n",
      "              ...  \n",
      "2021-12-13    76800\n",
      "2021-12-14    77000\n",
      "2021-12-15    77600\n",
      "2021-12-16    77800\n",
      "2021-12-17    78000\n",
      "Name: Close, Length: 977, dtype: int64\n"
     ]
    },
    {
     "data": {
      "text/plain": [
       "pandas.core.series.Series"
      ]
     },
     "execution_count": 60,
     "metadata": {},
     "output_type": "execute_result"
    }
   ],
   "source": [
    "a = pd.read_csv(\"삼성전자 종가.csv\", index_col = 0).squeeze() # squeeze()함수를 통해 Series로 지정 가능\n",
    "print(a)\n",
    "type(a)"
   ]
  },
  {
   "cell_type": "code",
   "execution_count": 66,
   "id": "bb34695e-df67-4d0f-8842-46ffb1a3b360",
   "metadata": {},
   "outputs": [
    {
     "name": "stdout",
     "output_type": "stream",
     "text": [
      "2018-01-02\n",
      "2018-01-03    51620\n",
      "2018-01-04    51080\n",
      "2018-01-05    52120\n",
      "2018-01-08    52020\n",
      "2018-01-09    50400\n",
      "              ...  \n",
      "2021-12-13    76800\n",
      "2021-12-14    77000\n",
      "2021-12-15    77600\n",
      "2021-12-16    77800\n",
      "2021-12-17    78000\n",
      "Name: 51020, Length: 976, dtype: int64\n"
     ]
    }
   ],
   "source": [
    "a = pd.read_csv(\"삼성전자 종가.csv\", index_col = 0, header = 1).squeeze() # header값 인덱스를 1으로 지정\n",
    "print(a) # index의 헤더값이 1번째 값이 된 것을 볼 수 있음"
   ]
  },
  {
   "cell_type": "code",
   "execution_count": 72,
   "id": "8cd72cb5-3866-4345-b231-77b7e16939d9",
   "metadata": {},
   "outputs": [
    {
     "name": "stdout",
     "output_type": "stream",
     "text": [
      "Date\n",
      "2018-01-02    51020\n",
      "2018-01-03    51620\n",
      "2018-01-04    51080\n",
      "2018-01-05    52120\n",
      "2018-01-08    52020\n",
      "              ...  \n",
      "2021-12-13    76800\n",
      "2021-12-14    77000\n",
      "2021-12-15    77600\n",
      "2021-12-16    77800\n",
      "2021-12-17    78000\n",
      "Name: Close, Length: 977, dtype: int64\n"
     ]
    }
   ],
   "source": [
    "a = pd.read_csv(\"삼성전자 종가.csv\", index_col = 0, header = 0).squeeze() # header값 인덱스를 0으로 지정\n",
    "print(a) # index의 헤더값이 Date가 된 것을 볼 수 있음"
   ]
  },
  {
   "cell_type": "markdown",
   "id": "66f970cb-11ee-4920-8f9f-db271bcb296f",
   "metadata": {},
   "source": [
    "## 1.3 Series의 Index와 Value"
   ]
  },
  {
   "cell_type": "markdown",
   "id": "51622992-7095-40eb-9475-63799799d816",
   "metadata": {},
   "source": [
    "* loc: index의 값을 통해 탐색\n",
    "* iloc: index의 순서를 통해 탐색"
   ]
  },
  {
   "cell_type": "code",
   "execution_count": 78,
   "id": "f51128b3-412f-40ca-bf62-d5641ea5fcfd",
   "metadata": {},
   "outputs": [
    {
     "name": "stdout",
     "output_type": "stream",
     "text": [
      "Date\n",
      "2018-01-02    51020\n",
      "2018-01-03    51620\n",
      "2018-01-04    51080\n",
      "2018-01-05    52120\n",
      "2018-01-08    52020\n",
      "              ...  \n",
      "2021-12-13    76800\n",
      "2021-12-14    77000\n",
      "2021-12-15    77600\n",
      "2021-12-16    77800\n",
      "2021-12-17    78000\n",
      "Name: Close, Length: 977, dtype: int64\n"
     ]
    }
   ],
   "source": [
    "import pandas as pd\n",
    "samsung_price = pd.read_csv(\"삼성전자 종가.csv\", index_col = 0, header = 0).squeeze()\n",
    "print(samsung_price)"
   ]
  },
  {
   "cell_type": "code",
   "execution_count": 82,
   "id": "6ba448d1-999f-43c2-b591-729fcbc9335c",
   "metadata": {},
   "outputs": [
    {
     "name": "stdout",
     "output_type": "stream",
     "text": [
      "Index(['2018-01-02', '2018-01-03', '2018-01-04', '2018-01-05', '2018-01-08',\n",
      "       '2018-01-09', '2018-01-10', '2018-01-11', '2018-01-12', '2018-01-15',\n",
      "       ...\n",
      "       '2021-12-06', '2021-12-07', '2021-12-08', '2021-12-09', '2021-12-10',\n",
      "       '2021-12-13', '2021-12-14', '2021-12-15', '2021-12-16', '2021-12-17'],\n",
      "      dtype='object', name='Date', length=977)\n"
     ]
    }
   ],
   "source": [
    "# samsung_price의 index만 따로 추출\n",
    "print(samsung_price.index)"
   ]
  },
  {
   "cell_type": "code",
   "execution_count": 90,
   "id": "98470bd6-afdb-4048-8f5f-ccc3baf48fe8",
   "metadata": {},
   "outputs": [
    {
     "name": "stdout",
     "output_type": "stream",
     "text": [
      "73800\n"
     ]
    }
   ],
   "source": [
    "# 2020-12-15 Data가 있을까?\n",
    "if '2020-12-15' in samsung_price.index: # 'in'을 사용하면 bool타입으로 값이 있는지 반환\n",
    "    print(samsung_price.loc['2020-12-15']) # loc는 index의 값을 통해 value를 꺼내올 수 있음"
   ]
  },
  {
   "cell_type": "code",
   "execution_count": 98,
   "id": "654f28a8-dec9-468e-b3ba-8ca2179a8dd1",
   "metadata": {},
   "outputs": [
    {
     "name": "stdout",
     "output_type": "stream",
     "text": [
      "49500\n"
     ]
    }
   ],
   "source": [
    "# 100번째 Data값은?\n",
    "\n",
    "print(samsung_price.iloc[100]) # iloc는 index값을 이용해 출력"
   ]
  }
 ],
 "metadata": {
  "kernelspec": {
   "display_name": "Python 3 (ipykernel)",
   "language": "python",
   "name": "python3"
  },
  "language_info": {
   "codemirror_mode": {
    "name": "ipython",
    "version": 3
   },
   "file_extension": ".py",
   "mimetype": "text/x-python",
   "name": "python",
   "nbconvert_exporter": "python",
   "pygments_lexer": "ipython3",
   "version": "3.12.4"
  }
 },
 "nbformat": 4,
 "nbformat_minor": 5
}
