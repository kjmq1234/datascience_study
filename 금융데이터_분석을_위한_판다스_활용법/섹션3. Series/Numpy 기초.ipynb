{
 "cells": [
  {
   "cell_type": "code",
   "execution_count": 3,
   "id": "6541d3e0-f555-40a5-8853-129f46f321f5",
   "metadata": {},
   "outputs": [
    {
     "data": {
      "text/plain": [
       "array([51020, 51620, 51080, 52120, 52020, 50400, 48840, 48240, 48200,\n",
       "       48540, 50000, 49620, 49900, 49320, 48240, 49160, 49340, 50260,\n",
       "       50780, 51220, 49800, 49900, 49820, 47700, 47920, 47420, 45800,\n",
       "       46000, 44700, 45720, 47540, 49000, 48380, 47400, 47280, 46760,\n",
       "       47220, 47380, 47380, 47060, 46020, 45200, 47020, 48620, 49200,\n",
       "       49740, 49740, 51660, 51760, 51540, 51140, 50740, 51200, 51060,\n",
       "       51780, 49720, 50280, 49980, 48700, 49040, 49220, 48540, 48120,\n",
       "       46920, 48740, 48400, 49200, 48880, 48860, 49000, 49800, 50340,\n",
       "       49980, 51360, 52780, 51620, 51900, 50460, 50400, 52140, 53000,\n",
       "       53000, 53000, 53000, 51900, 52600, 50900, 51600, 51300, 50100,\n",
       "       49200, 49850, 49400, 49500, 50000, 51800, 51400, 52700, 52300,\n",
       "       51300, 49500, 50700, 51300, 51100, 51300, 50600, 49650, 49900,\n",
       "       49400, 48200, 47650, 46600, 47000, 47000, 47050, 47250, 46650,\n",
       "       47000, 47950, 46800, 46650, 45550, 46150, 46250, 45950, 44900,\n",
       "       45600, 46300, 46000, 45500, 46500, 46050, 45850, 46550, 46900,\n",
       "       47450, 46500, 46150, 46150, 46900, 46900, 46500, 46250, 46550,\n",
       "       45550, 45750, 45800, 46700, 46800, 46900, 45400, 45050, 45150,\n",
       "       44250, 44100, 43850, 44800, 46100, 46200, 46150, 46300, 46550,\n",
       "       46800, 47650, 48450, 47450, 47650, 46600, 46100, 44900, 45500,\n",
       "       45050, 44550, 44050, 45850, 45150, 45500, 46150, 47250, 47400,\n",
       "       47500, 46450, 46350, 45700, 44700, 44700, 44950, 45300, 43100,\n",
       "       44000, 43800, 43600, 44150, 44050, 43900, 43550, 43050, 42550,\n",
       "       41000, 41000, 41400, 42350, 42400, 42150, 44150, 43800, 43750,\n",
       "       44000, 44050, 44300, 45200, 44500, 44100, 44250, 44000, 43650,\n",
       "       42800, 42100, 42450, 42400, 42600, 43050, 43150, 43150, 41850,\n",
       "       43250, 42150, 41450, 40500, 40950, 40200, 40250, 40450, 40000,\n",
       "       38950, 39150, 38900, 39100, 38650, 38650, 38800, 38350, 38250,\n",
       "       38700, 38750, 37600, 37450, 38750, 38100, 39600, 39800, 40500,\n",
       "       40050, 41100, 41450, 41950, 42300, 42750, 42150, 42000, 43050,\n",
       "       44750, 45050, 45500, 46400, 46150, 46350, 46200, 44800, 45000,\n",
       "       46050, 46200, 47500, 46050, 46200, 45950, 46900, 46950, 47150,\n",
       "       47350, 46750, 46750, 45100, 44850, 44250, 44000, 44450, 43800,\n",
       "       43650, 44650, 43850, 43850, 44200, 43700, 43900, 44050, 45850,\n",
       "       46550, 45500, 45250, 45350, 44850, 44650, 45050, 45750, 46600,\n",
       "       46950, 46850, 46650, 46650, 46700, 46250, 46850, 47050, 47250,\n",
       "       47050, 45600, 45300, 45350, 45200, 44750, 44650, 44850, 46150,\n",
       "       45850, 45900, 45300, 44850, 44250, 42450, 42900, 42650, 42650,\n",
       "       42550, 41550, 41200, 42000, 43150, 43500, 43850, 42700, 42650,\n",
       "       42550, 41800, 42550, 42500, 43800, 43450, 43900, 44200, 44800,\n",
       "       44850, 44600, 43750, 44000, 43900, 44350, 45350, 45500, 45700,\n",
       "       45500, 45600, 45700, 46500, 47000, 46600, 46250, 45400, 46000,\n",
       "       45650, 44400, 45100, 45550, 46200, 46300, 46450, 46850, 46050,\n",
       "       46100, 46800, 47200, 47300, 46400, 47200, 47150, 46100, 46550,\n",
       "       45350, 45200, 44950, 43950, 43500, 43200, 42650, 43150, 43700,\n",
       "       43000, 43700, 43900, 43600, 44450, 44500, 44050, 43950, 43600,\n",
       "       44050, 44150, 43400, 44000, 43800, 43250, 44100, 45700, 46300,\n",
       "       46900, 47000, 47150, 47100, 46900, 47700, 49150, 49200, 49300,\n",
       "       49500, 48900, 49200, 48400, 49050, 48850, 47600, 48000, 47750,\n",
       "       48900, 48550, 49150, 50000, 50100, 50700, 50500, 49900, 50300,\n",
       "       51200, 51200, 50700, 50900, 51300, 51100, 50400, 50400, 51200,\n",
       "       52300, 52700, 53300, 52900, 52100, 51600, 52600, 52500, 52800,\n",
       "       53700, 53500, 53500, 52000, 51000, 51600, 51800, 51800, 52200,\n",
       "       51300, 50300, 50400, 49900, 49450, 49500, 50400, 51200, 51500,\n",
       "       51900, 53300, 54700, 54700, 56700, 56300, 56000, 56000, 55500,\n",
       "       55000, 55400, 56500, 55800, 55200, 55500, 55500, 55800, 56800,\n",
       "       58600, 59500, 60000, 60000, 59000, 60700, 61300, 62400, 61400,\n",
       "       62300, 60800, 58800, 59100, 57200, 56400, 57200, 58900, 59500,\n",
       "       61100, 60400, 59700, 59900, 60500, 60700, 61800, 61500, 59800,\n",
       "       60200, 60000, 59200, 56800, 57900, 56500, 55900, 54200, 55000,\n",
       "       55400, 57400, 57800, 56500, 54200, 54600, 52100, 50800, 49950,\n",
       "       48900, 47300, 45600, 42950, 45400, 42500, 46950, 48650, 47800,\n",
       "       48300, 47850, 47750, 45800, 46800, 47000, 48700, 49600, 48600,\n",
       "       49100, 49250, 48300, 49000, 49000, 51400, 50100, 49250, 49850,\n",
       "       49850, 49350, 49850, 50100, 50000, 48500, 49200, 48800, 48800,\n",
       "       48400, 47900, 48550, 48000, 47850, 48800, 50300, 50000, 49950,\n",
       "       48750, 48850, 49250, 49900, 50400, 50700, 51200, 51400, 54500,\n",
       "       54600, 55500, 54900, 55500, 55400, 54300, 52300, 49900, 52100,\n",
       "       52200, 52300, 52900, 52000, 51400, 52900, 51900, 53300, 52400,\n",
       "       52800, 52600, 52900, 53600, 55000, 53400, 53000, 52800, 52700,\n",
       "       53400, 53800, 54700, 53800, 54400, 54200, 55300, 54700, 54100,\n",
       "       54200, 55600, 58600, 59000, 59000, 57900, 56800, 57300, 56900,\n",
       "       58000, 57500, 57800, 58200, 59000, 58700, 58000, 58400, 57800,\n",
       "       55400, 55900, 56100, 56400, 56400, 55600, 55400, 54000, 54200,\n",
       "       54400, 56400, 55600, 56500, 58700, 58400, 59200, 59000, 60400,\n",
       "       61000, 61000, 59500, 59300, 59200, 58200, 58600, 57800, 57900,\n",
       "       58200, 58200, 58700, 59000, 59900, 59700, 60400, 60900, 60900,\n",
       "       60000, 59500, 60000, 60900, 60900, 60100, 60200, 60400, 59800,\n",
       "       59000, 58100, 56600, 57400, 58800, 58500, 60300, 60100, 60200,\n",
       "       60200, 61300, 61000, 63200, 66300, 65700, 64800, 64600, 64700,\n",
       "       67500, 67700, 66600, 68000, 68200, 66700, 67800, 69500, 69700,\n",
       "       71500, 72900, 71700, 73900, 72900, 73400, 73800, 73800, 73800,\n",
       "       73300, 73000, 73000, 72300, 73900, 77800, 78700, 78300, 81000,\n",
       "       83000, 83900, 82200, 82900, 88800, 91000, 90600, 89700, 89700,\n",
       "       88000, 85000, 87000, 87200, 88100, 86800, 89400, 86700, 85600,\n",
       "       83700, 82000, 83000, 84400, 84600, 82500, 83500, 83000, 82700,\n",
       "       81600, 84200, 84900, 83200, 82100, 82600, 82200, 82000, 82000,\n",
       "       85300, 82500, 83600, 84000, 82400, 82100, 82000, 81400, 80900,\n",
       "       82000, 82800, 81800, 82800, 82300, 82900, 81900, 82000, 81800,\n",
       "       81000, 81200, 81500, 81600, 82200, 81400, 82900, 84800, 85400,\n",
       "       86000, 85600, 84700, 83600, 83200, 84000, 84000, 84100, 83900,\n",
       "       83300, 83900, 82600, 82400, 82800, 83500, 82900, 82100, 81700,\n",
       "       81500, 81700, 82600, 82300, 81900, 83200, 81200, 80000, 78500,\n",
       "       80100, 79600, 79600, 79500, 80100, 79700, 79900, 79800, 79600,\n",
       "       80100, 80500, 80600, 80800, 82800, 82200, 81900, 81900, 81100,\n",
       "       81000, 81000, 80500, 80900, 81800, 80900, 80500, 79900, 80000,\n",
       "       80100, 81200, 81600, 81900, 81000, 80700, 80100, 80000, 80400,\n",
       "       81200, 80800, 79900, 79400, 79700, 79800, 79500, 80600, 79800,\n",
       "       79000, 79000, 78500, 79700, 79300, 78800, 78500, 79200, 79000,\n",
       "       78500, 79300, 81400, 82900, 82100, 81500, 81500, 80200, 78500,\n",
       "       77000, 74400, 74200, 73900, 73100, 72700, 73300, 75600, 75700,\n",
       "       74600, 74300, 74600, 76700, 76800, 76000, 76600, 77300, 76100,\n",
       "       76300, 75300, 75300, 76300, 76600, 77000, 76100, 77200, 77400,\n",
       "       77300, 77700, 76300, 74100, 74100, 73200, 72200, 71300, 71600,\n",
       "       71500, 69000, 68800, 69400, 70100, 70200, 70600, 70300, 70200,\n",
       "       70400, 70200, 71100, 70100, 70700, 69800, 69900, 71500, 70400,\n",
       "       70600, 70200, 70600, 70500, 70200, 69900, 70600, 71400, 71300,\n",
       "       70700, 70200, 71200, 74900, 75300, 74800, 73700, 72300, 72300,\n",
       "       71300, 74400, 75800, 75600, 76300, 77400, 77400, 78200, 76900,\n",
       "       76800, 77000, 77600, 77800, 78000])"
      ]
     },
     "execution_count": 3,
     "metadata": {},
     "output_type": "execute_result"
    }
   ],
   "source": [
    "import pandas as pd\n",
    "\n",
    "samsung_price = pd.read_csv('삼성전자 종가.csv', index_col=0, header=0).squeeze()\n",
    "\n",
    "samsung_price.values # 여기서 밸류들의 리스트가 array에 감싸져있는 것을 볼 수 있음"
   ]
  },
  {
   "cell_type": "code",
   "execution_count": 5,
   "id": "acc53f5a-01f2-4a2a-a196-5d19dc6e9c21",
   "metadata": {},
   "outputs": [],
   "source": [
    "import numpy as np"
   ]
  },
  {
   "cell_type": "code",
   "execution_count": 11,
   "id": "79d8a480-6b51-4880-a311-a61649363e50",
   "metadata": {},
   "outputs": [
    {
     "ename": "AttributeError",
     "evalue": "'list' object has no attribute 'shape'",
     "output_type": "error",
     "traceback": [
      "\u001b[0;31m---------------------------------------------------------------------------\u001b[0m",
      "\u001b[0;31mAttributeError\u001b[0m                            Traceback (most recent call last)",
      "Cell \u001b[0;32mIn[11], line 3\u001b[0m\n\u001b[1;32m      1\u001b[0m ls \u001b[38;5;241m=\u001b[39m [\u001b[38;5;241m1\u001b[39m, \u001b[38;5;241m2\u001b[39m, \u001b[38;5;241m3\u001b[39m, \u001b[38;5;241m4\u001b[39m]\n\u001b[1;32m      2\u001b[0m ls\n\u001b[0;32m----> 3\u001b[0m ls\u001b[38;5;241m.\u001b[39mshape\n",
      "\u001b[0;31mAttributeError\u001b[0m: 'list' object has no attribute 'shape'"
     ]
    }
   ],
   "source": [
    "ls = [1, 2, 3, 4]\n",
    "ls.shape\n",
    "# 여기는 shape를 사용할 수 없다(행렬이 하닌 한 열만 사용 중이니까)"
   ]
  },
  {
   "cell_type": "code",
   "execution_count": 13,
   "id": "b1ea8630-e41a-4be1-8610-fb71924be85e",
   "metadata": {},
   "outputs": [
    {
     "name": "stdout",
     "output_type": "stream",
     "text": [
      "[1 2 3 4]\n",
      "(4,)\n"
     ]
    }
   ],
   "source": [
    "arr = np.array([1, 2, 3, 4])\n",
    "print(arr) # 겉 보기에는 list와 같아보이지만\n",
    "print(arr.shape) # shape를 통해 열어보면 이 친구는 행렬로 구현할 수 있다."
   ]
  },
  {
   "cell_type": "code",
   "execution_count": 19,
   "id": "cac3ba2d-9b18-4769-803f-5f1bb7a24402",
   "metadata": {},
   "outputs": [
    {
     "name": "stdout",
     "output_type": "stream",
     "text": [
      "[[1 2 3 4]\n",
      " [5 6 7 8]]\n",
      "(2, 4)\n"
     ]
    }
   ],
   "source": [
    "arr2 = np.array([[1, 2, 3, 4], [5, 6, 7, 8]]) # 2차원 배열 생성\n",
    "print(arr2) \n",
    "print(arr2.shape) # 2차원 배열로도 생성 가능"
   ]
  },
  {
   "cell_type": "markdown",
   "id": "fed4563d-44eb-488e-8efb-6ac9747cc289",
   "metadata": {},
   "source": [
    "Series와 DataFrame의 Broadcasting\n",
    " * Series와 df에 어떠한 값을 연산할 때 Series, df스케일로 환산된다."
   ]
  },
  {
   "cell_type": "code",
   "execution_count": 28,
   "id": "aaa77266-b251-4eb3-81b0-773066430d0b",
   "metadata": {},
   "outputs": [
    {
     "name": "stdout",
     "output_type": "stream",
     "text": [
      "[[2 3]\n",
      " [3 6]]\n",
      "[[10 20]\n",
      " [20 50]]\n"
     ]
    }
   ],
   "source": [
    "# 브로드캐스팅 연산 예제\n",
    "arr3 = np.array([[1, 2], [2, 5]])\n",
    "print(arr3 + 1) # 원래는 더해질 수 없겠지만 브로드캐스팅에 의해 [[1, 1], [1, 1]]으로 환산되어 연산됨\n",
    "print(arr3 * 10)"
   ]
  },
  {
   "cell_type": "code",
   "execution_count": 33,
   "id": "83708cbf-d3cc-4d59-b72d-f5ebf75580f7",
   "metadata": {},
   "outputs": [
    {
     "data": {
      "text/plain": [
       "array([False, False, False, False, False, False, False, False, False,\n",
       "       False, False, False, False, False, False, False, False, False,\n",
       "       False, False, False, False, False, False, False, False, False,\n",
       "       False, False, False, False, False, False, False, False, False,\n",
       "       False, False, False, False, False, False, False, False, False,\n",
       "       False, False, False, False, False, False, False, False, False,\n",
       "       False, False, False, False, False, False, False, False, False,\n",
       "       False, False, False, False, False, False, False, False, False,\n",
       "       False, False, False, False, False, False, False, False, False,\n",
       "       False, False, False, False, False, False, False, False, False,\n",
       "       False, False, False, False, False, False, False, False, False,\n",
       "       False, False, False, False, False, False, False, False, False,\n",
       "       False, False, False, False, False, False, False, False, False,\n",
       "       False, False, False, False, False, False, False, False, False,\n",
       "       False, False, False, False, False, False, False, False, False,\n",
       "       False, False, False, False, False, False, False, False, False,\n",
       "       False, False, False, False, False, False, False, False, False,\n",
       "       False, False, False, False, False, False, False, False, False,\n",
       "       False, False, False, False, False, False, False, False, False,\n",
       "       False, False, False, False, False, False, False, False, False,\n",
       "       False, False, False, False, False, False, False, False, False,\n",
       "       False, False, False, False, False, False, False, False, False,\n",
       "       False, False, False, False, False, False, False, False, False,\n",
       "       False, False, False, False, False, False, False, False, False,\n",
       "       False, False, False, False, False, False, False, False, False,\n",
       "       False, False, False, False, False, False, False, False, False,\n",
       "       False, False, False, False, False, False, False, False, False,\n",
       "       False, False, False, False, False, False, False, False, False,\n",
       "       False, False, False, False, False, False, False, False, False,\n",
       "       False, False, False, False, False, False, False, False, False,\n",
       "       False, False, False, False, False, False, False, False, False,\n",
       "       False, False, False, False, False, False, False, False, False,\n",
       "       False, False, False, False, False, False, False, False, False,\n",
       "       False, False, False, False, False, False, False, False, False,\n",
       "       False, False, False, False, False, False, False, False, False,\n",
       "       False, False, False, False, False, False, False, False, False,\n",
       "       False, False, False, False, False, False, False, False, False,\n",
       "       False, False, False, False, False, False, False, False, False,\n",
       "       False, False, False, False, False, False, False, False, False,\n",
       "       False, False, False, False, False, False, False, False, False,\n",
       "       False, False, False, False, False, False, False, False, False,\n",
       "       False, False, False, False, False, False, False, False, False,\n",
       "       False, False, False, False, False, False, False, False, False,\n",
       "       False, False, False, False, False, False, False, False, False,\n",
       "       False, False, False, False, False, False, False, False, False,\n",
       "       False, False, False, False, False, False, False, False, False,\n",
       "       False, False, False, False, False, False, False, False, False,\n",
       "       False, False, False, False, False, False, False, False, False,\n",
       "       False, False, False, False, False, False, False, False, False,\n",
       "       False, False, False, False, False, False, False, False, False,\n",
       "       False, False, False, False, False, False, False, False, False,\n",
       "       False, False, False, False, False, False, False, False, False,\n",
       "       False, False, False, False, False, False, False, False, False,\n",
       "       False, False, False, False, False, False, False, False, False,\n",
       "       False, False, False, False, False, False, False, False, False,\n",
       "       False, False, False, False, False, False, False, False, False,\n",
       "       False, False, False, False, False, False, False, False, False,\n",
       "       False, False, False, False, False, False, False, False, False,\n",
       "       False, False, False, False, False, False, False, False, False,\n",
       "       False, False, False, False, False, False, False, False, False,\n",
       "       False, False, False, False, False, False, False, False, False,\n",
       "       False, False, False, False, False, False, False, False, False,\n",
       "       False, False, False, False, False, False, False, False, False,\n",
       "       False, False, False, False, False, False, False, False, False,\n",
       "       False, False, False, False, False, False, False, False, False,\n",
       "       False, False, False, False, False, False, False, False, False,\n",
       "       False, False, False, False, False, False, False, False, False,\n",
       "       False, False, False, False, False, False, False, False, False,\n",
       "       False, False, False, False, False, False, False, False, False,\n",
       "       False, False, False, False, False, False, False, False, False,\n",
       "       False, False, False, False, False, False, False, False, False,\n",
       "       False, False, False, False, False, False, False, False, False,\n",
       "       False, False, False, False, False, False, False, False, False,\n",
       "       False, False, False, False, False, False, False, False, False,\n",
       "       False, False, False, False, False, False, False, False, False,\n",
       "       False, False, False, False, False, False, False, False, False,\n",
       "       False, False, False, False, False, False, False, False, False,\n",
       "       False, False, False, False, False, False, False, False, False,\n",
       "       False, False, False, False, False, False, False, False, False,\n",
       "       False, False, False, False, False, False, False, False, False,\n",
       "       False, False, False, False, False, False, False, False, False,\n",
       "       False, False, False, False, False, False, False, False, False,\n",
       "       False, False, False, False, False,  True, False, False, False,\n",
       "       False, False, False, False, False, False, False, False, False,\n",
       "       False, False, False, False, False, False, False, False, False,\n",
       "       False, False, False, False, False, False, False, False, False,\n",
       "       False, False, False, False, False, False, False, False, False,\n",
       "       False, False, False, False, False, False, False, False, False,\n",
       "       False, False, False, False, False, False, False, False, False,\n",
       "       False, False, False, False, False, False, False, False, False,\n",
       "       False, False, False, False, False, False, False, False, False,\n",
       "       False, False, False, False, False, False, False, False, False,\n",
       "       False, False, False, False, False, False, False, False, False,\n",
       "       False, False, False, False, False, False, False, False, False,\n",
       "       False, False, False, False, False, False, False, False, False,\n",
       "       False, False, False, False, False, False, False, False, False,\n",
       "       False, False, False, False, False, False, False, False, False,\n",
       "       False, False, False, False, False, False, False, False, False,\n",
       "       False, False, False, False, False, False, False, False, False,\n",
       "       False, False, False, False, False, False, False, False, False,\n",
       "       False, False, False, False, False, False, False, False, False,\n",
       "       False, False, False, False, False, False, False, False, False,\n",
       "       False, False, False, False, False, False, False, False, False,\n",
       "       False, False, False, False, False, False, False, False, False,\n",
       "       False, False, False, False, False, False, False, False, False,\n",
       "       False, False, False, False, False, False, False, False, False,\n",
       "       False, False, False, False, False, False, False, False, False,\n",
       "       False, False, False, False, False, False, False, False, False,\n",
       "       False, False, False, False, False])"
      ]
     },
     "execution_count": 33,
     "metadata": {},
     "output_type": "execute_result"
    }
   ],
   "source": [
    "# max()의 결과값은 수 하나이고, values는 시리즈인데 어떻게 연산이 되나요?\n",
    "# -> 브로드캐스팅 참고 \n",
    "samsung_price.max() == samsung_price.values"
   ]
  }
 ],
 "metadata": {
  "kernelspec": {
   "display_name": "Python 3 (ipykernel)",
   "language": "python",
   "name": "python3"
  },
  "language_info": {
   "codemirror_mode": {
    "name": "ipython",
    "version": 3
   },
   "file_extension": ".py",
   "mimetype": "text/x-python",
   "name": "python",
   "nbconvert_exporter": "python",
   "pygments_lexer": "ipython3",
   "version": "3.12.4"
  }
 },
 "nbformat": 4,
 "nbformat_minor": 5
}
