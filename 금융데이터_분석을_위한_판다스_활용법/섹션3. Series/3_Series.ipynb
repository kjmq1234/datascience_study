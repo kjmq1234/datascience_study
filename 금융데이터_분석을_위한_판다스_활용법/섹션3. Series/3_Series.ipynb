{
 "cells": [
  {
   "cell_type": "markdown",
   "id": "de506b0f-238e-4114-acf8-f4f8a00d7d93",
   "metadata": {},
   "source": [
    "# 1. Series"
   ]
  },
  {
   "cell_type": "markdown",
   "id": "bc29d568-b641-4d0c-8261-43051161a09e",
   "metadata": {},
   "source": [
    "* Series란?\n",
    "Data의 컬럼이 1개인 구조, index(행)과 1개의 열로 구성  \n",
    "-> 열이 여러개면 DataFrame이 됨"
   ]
  },
  {
   "cell_type": "markdown",
   "id": "9dae640f-a80b-45a4-93e1-be1ae41ed194",
   "metadata": {
    "jp-MarkdownHeadingCollapsed": true
   },
   "source": [
    "## 1.1 Series 만드는 법\n",
    "\n",
    "* pd.Series()에 Datatype이 list, dict인 구조로 만들 수 있음\n",
    "* 딕셔너리의 경우 key, value가 함께 만들어짐"
   ]
  },
  {
   "cell_type": "code",
   "execution_count": 6,
   "id": "9c5fc08c-110f-4a0f-adaa-74d16b01fd38",
   "metadata": {},
   "outputs": [],
   "source": [
    "# 판다스 불러오가\n",
    "import pandas as pd"
   ]
  },
  {
   "cell_type": "code",
   "execution_count": 14,
   "id": "f1378784-5831-4003-94ff-8050b9bd807c",
   "metadata": {},
   "outputs": [
    {
     "name": "stdout",
     "output_type": "stream",
     "text": [
      "0    1\n",
      "1    2\n",
      "2    3\n",
      "3    4\n",
      "4    5\n",
      "5    6\n",
      "6    7\n",
      "7    8\n",
      "8    9\n",
      "dtype: int64\n",
      "0        1\n",
      "1        2\n",
      "2        3\n",
      "3    apple\n",
      "4     play\n",
      "5        6\n",
      "6        7\n",
      "7        8\n",
      "8        9\n",
      "dtype: object\n"
     ]
    }
   ],
   "source": [
    "# Data Type이 리스트인 경우\n",
    "list1 = [1, 2, 3, 4, 5, 6, 7, 8, 9]\n",
    "list2 = [1, 2, 3, 'apple', 'play', 6, 7, 8, 9]\n",
    "\n",
    "sr1 = pd.Series(list1) # pd.Series(대상 데이터)\n",
    "print(sr1)\n",
    "\n",
    "sr2 = pd.Series(list2) # value의 타입이 달라도 상관 없음\n",
    "print(sr2)"
   ]
  },
  {
   "cell_type": "code",
   "execution_count": 18,
   "id": "1b4b7104-2790-4e26-8061-0607c5a4c5d0",
   "metadata": {},
   "outputs": [
    {
     "name": "stdout",
     "output_type": "stream",
     "text": [
      "0    1\n",
      "1    2\n",
      "2    3\n",
      "3    4\n",
      "4    5\n",
      "5    6\n",
      "6    7\n",
      "7    8\n",
      "8    9\n",
      "Name: Number, dtype: int64\n",
      "0        1\n",
      "1        2\n",
      "2        3\n",
      "3    apple\n",
      "4     play\n",
      "5        6\n",
      "6        7\n",
      "7        8\n",
      "8        9\n",
      "Name: Word, dtype: object\n"
     ]
    }
   ],
   "source": [
    "# Series에 Name 설정\n",
    "\n",
    "sr1.name = \"Number\" # Value열의 이름을 설정\n",
    "sr2.name = \"Word\"\n",
    "\n",
    "print(sr1)\n",
    "print(sr2)"
   ]
  },
  {
   "cell_type": "code",
   "execution_count": 28,
   "id": "3fbf8572-b4f6-4ef7-a2db-fb03f5cdd9db",
   "metadata": {},
   "outputs": [
    {
     "name": "stdout",
     "output_type": "stream",
     "text": [
      "a    1\n",
      "b    2\n",
      "c    3\n",
      "d    4\n",
      "Name: Number, dtype: int64\n"
     ]
    }
   ],
   "source": [
    "# Data Type이 딕셔너리인 경우\n",
    "dic1 = {\"a\": 1, \"b\": 2, \"c\": 3, \"d\": 4}\n",
    "\n",
    "sr3 = pd.Series(dic1)\n",
    "sr3.name = \"Number\"\n",
    "print(sr3)"
   ]
  },
  {
   "cell_type": "markdown",
   "id": "25db61ea-73c1-4ff6-a940-c1ed161f6eac",
   "metadata": {},
   "source": [
    "* key값이 index로<br>\n",
    "* value값이 값으로 들어가는 것을 볼 수 있음"
   ]
  },
  {
   "cell_type": "markdown",
   "id": "3ee41abb-3069-4691-9bc5-8c928cacbfb7",
   "metadata": {
    "jp-MarkdownHeadingCollapsed": true
   },
   "source": [
    "## 1.2 삼성전자 종가 Series로 불러오기"
   ]
  },
  {
   "cell_type": "markdown",
   "id": "d4c6ed63-0875-48b1-9d90-46fe57121433",
   "metadata": {},
   "source": [
    "pd.read_csv() 함수에서 주로 사용하는 요소들을 공부\n",
    "* path: 파일 경로\n",
    "* index_col: index로 지정할 컬럼\n",
    "* squezze: Series로 지정할지 여부\n",
    "* header: 헤더값의 index"
   ]
  },
  {
   "cell_type": "code",
   "execution_count": 46,
   "id": "c668efbe-8cc2-452d-bb97-91b20b4e3b37",
   "metadata": {},
   "outputs": [
    {
     "name": "stdout",
     "output_type": "stream",
     "text": [
      "           Date  Close\n",
      "0    2018-01-02  51020\n",
      "1    2018-01-03  51620\n",
      "2    2018-01-04  51080\n",
      "3    2018-01-05  52120\n",
      "4    2018-01-08  52020\n",
      "..          ...    ...\n",
      "972  2021-12-13  76800\n",
      "973  2021-12-14  77000\n",
      "974  2021-12-15  77600\n",
      "975  2021-12-16  77800\n",
      "976  2021-12-17  78000\n",
      "\n",
      "[977 rows x 2 columns]\n"
     ]
    },
    {
     "data": {
      "text/plain": [
       "pandas.core.frame.DataFrame"
      ]
     },
     "execution_count": 46,
     "metadata": {},
     "output_type": "execute_result"
    }
   ],
   "source": [
    "import pandas as pd\n",
    "\n",
    "a = pd.read_csv(\"삼성전자 종가.csv\") # 파일 주소로 불러오기(절대 주소, 상대 주소 모두 가능)\n",
    "print(a)\n",
    "type(a) # 이 경우 열이 2개이기 때문에 데이터프레임 타입임"
   ]
  },
  {
   "cell_type": "code",
   "execution_count": 54,
   "id": "d589fe44-3c1f-48dc-a95c-0e7b52cb0667",
   "metadata": {},
   "outputs": [
    {
     "name": "stdout",
     "output_type": "stream",
     "text": [
      "            Close\n",
      "Date             \n",
      "2018-01-02  51020\n",
      "2018-01-03  51620\n",
      "2018-01-04  51080\n",
      "2018-01-05  52120\n",
      "2018-01-08  52020\n",
      "...           ...\n",
      "2021-12-13  76800\n",
      "2021-12-14  77000\n",
      "2021-12-15  77600\n",
      "2021-12-16  77800\n",
      "2021-12-17  78000\n",
      "\n",
      "[977 rows x 1 columns]\n"
     ]
    },
    {
     "data": {
      "text/plain": [
       "pandas.core.frame.DataFrame"
      ]
     },
     "execution_count": 54,
     "metadata": {},
     "output_type": "execute_result"
    }
   ],
   "source": [
    "a = pd.read_csv(\"삼성전자 종가.csv\", index_col = 0) # 0번째 열이 index가 됨\n",
    "print(a)\n",
    "type(a) # 하지만 이 경우에도 타입은 df"
   ]
  },
  {
   "cell_type": "code",
   "execution_count": 60,
   "id": "10aa221a-31ec-41b8-993a-21f2ff49aa74",
   "metadata": {},
   "outputs": [
    {
     "name": "stdout",
     "output_type": "stream",
     "text": [
      "Date\n",
      "2018-01-02    51020\n",
      "2018-01-03    51620\n",
      "2018-01-04    51080\n",
      "2018-01-05    52120\n",
      "2018-01-08    52020\n",
      "              ...  \n",
      "2021-12-13    76800\n",
      "2021-12-14    77000\n",
      "2021-12-15    77600\n",
      "2021-12-16    77800\n",
      "2021-12-17    78000\n",
      "Name: Close, Length: 977, dtype: int64\n"
     ]
    },
    {
     "data": {
      "text/plain": [
       "pandas.core.series.Series"
      ]
     },
     "execution_count": 60,
     "metadata": {},
     "output_type": "execute_result"
    }
   ],
   "source": [
    "a = pd.read_csv(\"삼성전자 종가.csv\", index_col = 0).squeeze() # squeeze()함수를 통해 Series로 지정 가능\n",
    "print(a)\n",
    "type(a)"
   ]
  },
  {
   "cell_type": "code",
   "execution_count": 66,
   "id": "bb34695e-df67-4d0f-8842-46ffb1a3b360",
   "metadata": {},
   "outputs": [
    {
     "name": "stdout",
     "output_type": "stream",
     "text": [
      "2018-01-02\n",
      "2018-01-03    51620\n",
      "2018-01-04    51080\n",
      "2018-01-05    52120\n",
      "2018-01-08    52020\n",
      "2018-01-09    50400\n",
      "              ...  \n",
      "2021-12-13    76800\n",
      "2021-12-14    77000\n",
      "2021-12-15    77600\n",
      "2021-12-16    77800\n",
      "2021-12-17    78000\n",
      "Name: 51020, Length: 976, dtype: int64\n"
     ]
    }
   ],
   "source": [
    "a = pd.read_csv(\"삼성전자 종가.csv\", index_col = 0, header = 1).squeeze() # header값 인덱스를 1으로 지정\n",
    "print(a) # index의 헤더값이 1번째 값이 된 것을 볼 수 있음"
   ]
  },
  {
   "cell_type": "code",
   "execution_count": 72,
   "id": "8cd72cb5-3866-4345-b231-77b7e16939d9",
   "metadata": {},
   "outputs": [
    {
     "name": "stdout",
     "output_type": "stream",
     "text": [
      "Date\n",
      "2018-01-02    51020\n",
      "2018-01-03    51620\n",
      "2018-01-04    51080\n",
      "2018-01-05    52120\n",
      "2018-01-08    52020\n",
      "              ...  \n",
      "2021-12-13    76800\n",
      "2021-12-14    77000\n",
      "2021-12-15    77600\n",
      "2021-12-16    77800\n",
      "2021-12-17    78000\n",
      "Name: Close, Length: 977, dtype: int64\n"
     ]
    }
   ],
   "source": [
    "a = pd.read_csv(\"삼성전자 종가.csv\", index_col = 0, header = 0).squeeze() # header값 인덱스를 0으로 지정\n",
    "print(a) # index의 헤더값이 Date가 된 것을 볼 수 있음"
   ]
  },
  {
   "cell_type": "markdown",
   "id": "66f970cb-11ee-4920-8f9f-db271bcb296f",
   "metadata": {
    "jp-MarkdownHeadingCollapsed": true
   },
   "source": [
    "## 1.3 Series의 Index와 Value"
   ]
  },
  {
   "cell_type": "markdown",
   "id": "51622992-7095-40eb-9475-63799799d816",
   "metadata": {},
   "source": [
    "* loc: index의 값을 통해 탐색\n",
    "* iloc: index의 순서를 통해 탐색"
   ]
  },
  {
   "cell_type": "code",
   "execution_count": 78,
   "id": "f51128b3-412f-40ca-bf62-d5641ea5fcfd",
   "metadata": {},
   "outputs": [
    {
     "name": "stdout",
     "output_type": "stream",
     "text": [
      "Date\n",
      "2018-01-02    51020\n",
      "2018-01-03    51620\n",
      "2018-01-04    51080\n",
      "2018-01-05    52120\n",
      "2018-01-08    52020\n",
      "              ...  \n",
      "2021-12-13    76800\n",
      "2021-12-14    77000\n",
      "2021-12-15    77600\n",
      "2021-12-16    77800\n",
      "2021-12-17    78000\n",
      "Name: Close, Length: 977, dtype: int64\n"
     ]
    }
   ],
   "source": [
    "import pandas as pd\n",
    "samsung_price = pd.read_csv(\"삼성전자 종가.csv\", index_col = 0, header = 0).squeeze()\n",
    "print(samsung_price)"
   ]
  },
  {
   "cell_type": "code",
   "execution_count": 82,
   "id": "6ba448d1-999f-43c2-b591-729fcbc9335c",
   "metadata": {},
   "outputs": [
    {
     "name": "stdout",
     "output_type": "stream",
     "text": [
      "Index(['2018-01-02', '2018-01-03', '2018-01-04', '2018-01-05', '2018-01-08',\n",
      "       '2018-01-09', '2018-01-10', '2018-01-11', '2018-01-12', '2018-01-15',\n",
      "       ...\n",
      "       '2021-12-06', '2021-12-07', '2021-12-08', '2021-12-09', '2021-12-10',\n",
      "       '2021-12-13', '2021-12-14', '2021-12-15', '2021-12-16', '2021-12-17'],\n",
      "      dtype='object', name='Date', length=977)\n"
     ]
    }
   ],
   "source": [
    "# samsung_price의 index만 따로 추출\n",
    "print(samsung_price.index)"
   ]
  },
  {
   "cell_type": "code",
   "execution_count": 90,
   "id": "98470bd6-afdb-4048-8f5f-ccc3baf48fe8",
   "metadata": {},
   "outputs": [
    {
     "name": "stdout",
     "output_type": "stream",
     "text": [
      "73800\n"
     ]
    }
   ],
   "source": [
    "# 2020-12-15 Data가 있을까?\n",
    "if '2020-12-15' in samsung_price.index: # 'in'을 사용하면 bool타입으로 값이 있는지 반환\n",
    "    print(samsung_price.loc['2020-12-15']) # loc는 index의 값을 통해 value를 꺼내올 수 있음"
   ]
  },
  {
   "cell_type": "code",
   "execution_count": 98,
   "id": "654f28a8-dec9-468e-b3ba-8ca2179a8dd1",
   "metadata": {},
   "outputs": [
    {
     "name": "stdout",
     "output_type": "stream",
     "text": [
      "49500\n"
     ]
    }
   ],
   "source": [
    "# 100번째 Data값은?\n",
    "\n",
    "print(samsung_price.iloc[100]) # iloc는 index값을 이용해 출력"
   ]
  },
  {
   "cell_type": "markdown",
   "id": "c7e34c8a-01a9-4acb-8652-b5a5ae725912",
   "metadata": {
    "jp-MarkdownHeadingCollapsed": true
   },
   "source": [
    "## 1-4 Series에 새로운 행을 추가하고 싶을때?"
   ]
  },
  {
   "cell_type": "code",
   "execution_count": 8,
   "id": "e9418696-93ef-4ac9-a927-8b6733fda5c9",
   "metadata": {},
   "outputs": [
    {
     "name": "stdout",
     "output_type": "stream",
     "text": [
      "Date\n",
      "2018-01-02    51020\n",
      "2018-01-03    51620\n",
      "2018-01-04    51080\n",
      "2018-01-05    52120\n",
      "2018-01-08    52020\n",
      "              ...  \n",
      "2021-12-13    76800\n",
      "2021-12-14    77000\n",
      "2021-12-15    77600\n",
      "2021-12-16    77800\n",
      "2021-12-17    78000\n",
      "Name: Close, Length: 977, dtype: int64\n"
     ]
    }
   ],
   "source": [
    "import pandas as pd\n",
    "\n",
    "samsung_price = pd.read_csv(\"삼성전자 종가.csv\", index_col = 0, header=0).squeeze()\n",
    "\n",
    "print(samsung_price)"
   ]
  },
  {
   "cell_type": "code",
   "execution_count": 14,
   "id": "ab829329-284b-49eb-a45e-c64dbd90a0b2",
   "metadata": {},
   "outputs": [
    {
     "name": "stdout",
     "output_type": "stream",
     "text": [
      "(977,)\n",
      "977\n"
     ]
    }
   ],
   "source": [
    "# samsung_price의 총 길이는?\n",
    "print(samsung_price.shape) # 행의 갯수, 열의 갯수를 튜플로 출력 \n",
    "print(samsung_price.shape[0]) # 행만 잘라서 출력"
   ]
  },
  {
   "cell_type": "code",
   "execution_count": 24,
   "id": "90e5ef2c-2740-4215-90b2-1f70675da709",
   "metadata": {},
   "outputs": [
    {
     "name": "stdout",
     "output_type": "stream",
     "text": [
      "Date\n",
      "2018-01-02    51020\n",
      "2018-01-03    51620\n",
      "2018-01-04    51080\n",
      "2018-01-05    52120\n",
      "2018-01-08    52020\n",
      "              ...  \n",
      "2021-12-14    77000\n",
      "2021-12-15    77600\n",
      "2021-12-16        0\n",
      "2021-12-17    78000\n",
      "2021-12-20    77100\n",
      "Name: Close, Length: 978, dtype: int64\n"
     ]
    }
   ],
   "source": [
    "# loc를 통해 index 추가/수정하는 법\n",
    "samsung_price['2021-12-20'] = 77100 # 기존에 존재하지 않았던 index를 넣어주어 새로운 값을 추가, loc는 생략하고 슬라이싱해도 결과는 같음\n",
    "samsung_price.loc['2021-12-16'] = 0 # loc를 통해 값 수정\n",
    "print(samsung_price)"
   ]
  },
  {
   "cell_type": "code",
   "execution_count": 26,
   "id": "7f5246f0-bfd8-4b2f-b7b4-2f4bab8de061",
   "metadata": {},
   "outputs": [
    {
     "ename": "IndexError",
     "evalue": "iloc cannot enlarge its target object",
     "output_type": "error",
     "traceback": [
      "\u001b[0;31m---------------------------------------------------------------------------\u001b[0m",
      "\u001b[0;31mIndexError\u001b[0m                                Traceback (most recent call last)",
      "Cell \u001b[0;32mIn[26], line 1\u001b[0m\n\u001b[0;32m----> 1\u001b[0m samsung_price\u001b[38;5;241m.\u001b[39miloc[\u001b[38;5;241m1000\u001b[39m] \u001b[38;5;241m=\u001b[39m \u001b[38;5;241m0\u001b[39m\n",
      "File \u001b[0;32m/opt/anaconda3/lib/python3.12/site-packages/pandas/core/indexing.py:908\u001b[0m, in \u001b[0;36m_LocationIndexer.__setitem__\u001b[0;34m(self, key, value)\u001b[0m\n\u001b[1;32m    906\u001b[0m     key \u001b[38;5;241m=\u001b[39m \u001b[38;5;28mself\u001b[39m\u001b[38;5;241m.\u001b[39m_check_deprecated_callable_usage(key, maybe_callable)\n\u001b[1;32m    907\u001b[0m indexer \u001b[38;5;241m=\u001b[39m \u001b[38;5;28mself\u001b[39m\u001b[38;5;241m.\u001b[39m_get_setitem_indexer(key)\n\u001b[0;32m--> 908\u001b[0m \u001b[38;5;28mself\u001b[39m\u001b[38;5;241m.\u001b[39m_has_valid_setitem_indexer(key)\n\u001b[1;32m    910\u001b[0m iloc \u001b[38;5;241m=\u001b[39m \u001b[38;5;28mself\u001b[39m \u001b[38;5;28;01mif\u001b[39;00m \u001b[38;5;28mself\u001b[39m\u001b[38;5;241m.\u001b[39mname \u001b[38;5;241m==\u001b[39m \u001b[38;5;124m\"\u001b[39m\u001b[38;5;124miloc\u001b[39m\u001b[38;5;124m\"\u001b[39m \u001b[38;5;28;01melse\u001b[39;00m \u001b[38;5;28mself\u001b[39m\u001b[38;5;241m.\u001b[39mobj\u001b[38;5;241m.\u001b[39miloc\n\u001b[1;32m    911\u001b[0m iloc\u001b[38;5;241m.\u001b[39m_setitem_with_indexer(indexer, value, \u001b[38;5;28mself\u001b[39m\u001b[38;5;241m.\u001b[39mname)\n",
      "File \u001b[0;32m/opt/anaconda3/lib/python3.12/site-packages/pandas/core/indexing.py:1646\u001b[0m, in \u001b[0;36m_iLocIndexer._has_valid_setitem_indexer\u001b[0;34m(self, indexer)\u001b[0m\n\u001b[1;32m   1644\u001b[0m \u001b[38;5;28;01melif\u001b[39;00m is_integer(i):\n\u001b[1;32m   1645\u001b[0m     \u001b[38;5;28;01mif\u001b[39;00m i \u001b[38;5;241m>\u001b[39m\u001b[38;5;241m=\u001b[39m \u001b[38;5;28mlen\u001b[39m(ax):\n\u001b[0;32m-> 1646\u001b[0m         \u001b[38;5;28;01mraise\u001b[39;00m \u001b[38;5;167;01mIndexError\u001b[39;00m(\u001b[38;5;124m\"\u001b[39m\u001b[38;5;124miloc cannot enlarge its target object\u001b[39m\u001b[38;5;124m\"\u001b[39m)\n\u001b[1;32m   1647\u001b[0m \u001b[38;5;28;01melif\u001b[39;00m \u001b[38;5;28misinstance\u001b[39m(i, \u001b[38;5;28mdict\u001b[39m):\n\u001b[1;32m   1648\u001b[0m     \u001b[38;5;28;01mraise\u001b[39;00m \u001b[38;5;167;01mIndexError\u001b[39;00m(\u001b[38;5;124m\"\u001b[39m\u001b[38;5;124miloc cannot enlarge its target object\u001b[39m\u001b[38;5;124m\"\u001b[39m)\n",
      "\u001b[0;31mIndexError\u001b[0m: iloc cannot enlarge its target object"
     ]
    }
   ],
   "source": [
    "samsung_price.iloc[1000] = 0 # iloc는 기존에 존재하지 않았던 index에 접근하면 오류 발생"
   ]
  },
  {
   "cell_type": "markdown",
   "id": "1f6c78cc-0f2c-44b2-affc-5a3076950c7c",
   "metadata": {
    "jp-MarkdownHeadingCollapsed": true
   },
   "source": [
    "## 1.5 두 개의 Series 연결"
   ]
  },
  {
   "cell_type": "markdown",
   "id": "9342ec3e-a860-4749-8082-636866659e8f",
   "metadata": {},
   "source": [
    "pd.read_excel('주소', sheet_name='시트이름', index_col) 양식으로 excel파일을 읽어줄 수 있음\n",
    "* sheet_name을 지정하지 않았을 경우 첫 시트가 불러와짐"
   ]
  },
  {
   "cell_type": "code",
   "execution_count": 53,
   "id": "58af9b52-9352-4def-b39d-98d4d1ba77cc",
   "metadata": {},
   "outputs": [
    {
     "name": "stdout",
     "output_type": "stream",
     "text": [
      "Date\n",
      "2018-01-02    51020\n",
      "2018-01-03    51620\n",
      "2018-01-04    51080\n",
      "2018-01-05    52120\n",
      "2018-01-08    52020\n",
      "              ...  \n",
      "2019-12-23    55500\n",
      "2019-12-24    55000\n",
      "2019-12-26    55400\n",
      "2019-12-27    56500\n",
      "2019-12-30    55800\n",
      "Name: Close, Length: 490, dtype: int64\n",
      "Date\n",
      "2020-01-02    55200\n",
      "2020-01-03    55500\n",
      "2020-01-06    55500\n",
      "2020-01-07    55800\n",
      "2020-01-08    56800\n",
      "              ...  \n",
      "2021-12-20    77100\n",
      "2021-12-21    78100\n",
      "2021-12-22    79400\n",
      "2021-12-23    79900\n",
      "2021-12-24    80500\n",
      "Name: Close, Length: 492, dtype: int64\n"
     ]
    }
   ],
   "source": [
    "import pandas as pd\n",
    "\n",
    "series1_samsung = pd.read_excel('samsung_excel.xlsx', sheet_name = 'Sheet1', index_col=0).squeeze()\n",
    "print(series1_samsung)\n",
    "\n",
    "series2_samsung = pd.read_excel('samsung_excel.xlsx', sheet_name = 'Sheet2', index_col=0).squeeze()\n",
    "print(series2_samsung)"
   ]
  },
  {
   "cell_type": "markdown",
   "id": "287891f4-688f-4976-a08c-01aa5727f880",
   "metadata": {},
   "source": [
    "pd.concat([시리즈1, 시리즈2], ignore_index=bool)\n",
    "* concat 함수를 통해 두 시리즈를 이어줄 수 있음\n",
    "* 이때 ignore_index=False여야 기존 index를 유지하면서 붙일 수 있음"
   ]
  },
  {
   "cell_type": "code",
   "execution_count": 79,
   "id": "44330fe9-8e90-4cce-8aa0-a996e661ee39",
   "metadata": {},
   "outputs": [
    {
     "name": "stdout",
     "output_type": "stream",
     "text": [
      "Date\n",
      "2018-01-02    51020\n",
      "2018-01-03    51620\n",
      "2018-01-04    51080\n",
      "2018-01-05    52120\n",
      "2018-01-08    52020\n",
      "              ...  \n",
      "2021-12-20    77100\n",
      "2021-12-21    78100\n",
      "2021-12-22    79400\n",
      "2021-12-23    79900\n",
      "2021-12-24    80500\n",
      "Name: Close, Length: 982, dtype: int64\n"
     ]
    }
   ],
   "source": [
    "series_samsung = pd.concat([series1_samsung, series2_samsung], ignore_index=False)\n",
    "print(series_samsung)"
   ]
  },
  {
   "cell_type": "markdown",
   "id": "72af5c3b-2204-47f1-ac2d-71b05007cdcc",
   "metadata": {
    "jp-MarkdownHeadingCollapsed": true
   },
   "source": [
    "## 1.6 Series 기본 통계치 구하기"
   ]
  },
  {
   "cell_type": "code",
   "execution_count": 82,
   "id": "d4dbd8bc-37e6-4aef-989d-b5f113c55cd6",
   "metadata": {},
   "outputs": [
    {
     "name": "stdout",
     "output_type": "stream",
     "text": [
      "Date\n",
      "2018-01-02    51020\n",
      "2018-01-03    51620\n",
      "2018-01-04    51080\n",
      "2018-01-05    52120\n",
      "2018-01-08    52020\n",
      "              ...  \n",
      "2021-12-13    76800\n",
      "2021-12-14    77000\n",
      "2021-12-15    77600\n",
      "2021-12-16    77800\n",
      "2021-12-17    78000\n",
      "Name: Close, Length: 977, dtype: int64\n"
     ]
    }
   ],
   "source": [
    "import pandas as pd\n",
    "\n",
    "samsung_price = pd.read_csv('삼성전자 종가.csv', index_col=0, header=0).squeeze()\n",
    "print(samsung_price)"
   ]
  },
  {
   "cell_type": "code",
   "execution_count": 86,
   "id": "db8b7bcf-f5f7-4439-85ce-ed4572d23d5f",
   "metadata": {},
   "outputs": [
    {
     "name": "stdout",
     "output_type": "stream",
     "text": [
      "91000\n",
      "37450\n",
      "count      977.000000\n",
      "mean     57295.854657\n",
      "std      14084.402274\n",
      "min      37450.000000\n",
      "25%      46300.000000\n",
      "50%      51300.000000\n",
      "75%      70200.000000\n",
      "max      91000.000000\n",
      "Name: Close, dtype: float64\n"
     ]
    }
   ],
   "source": [
    "# 기초 통계\n",
    "\n",
    "print(samsung_price.max()) # 최대값\n",
    "print(samsung_price.min()) # 최소값\n",
    "print(samsung_price.describe()) # 기초통계"
   ]
  },
  {
   "cell_type": "code",
   "execution_count": 94,
   "id": "891c8ed3-c8c2-49e2-9064-ffdd3b9095e8",
   "metadata": {},
   "outputs": [
    {
     "name": "stdout",
     "output_type": "stream",
     "text": [
      "743\n",
      "246\n"
     ]
    }
   ],
   "source": [
    "# 그렇다면 최댓값과 최소값일 때 index는 어떻게 찾을까?\n",
    "\n",
    "print(samsung_price.argmax()) # 최댓값일 때 index(순서)\n",
    "print(samsung_price.argmin()) # 최소값일 때 index(순서)"
   ]
  },
  {
   "cell_type": "code",
   "execution_count": 102,
   "id": "ad19985f-a35f-4758-9ad4-e1a45d286d8f",
   "metadata": {},
   "outputs": [
    {
     "name": "stdout",
     "output_type": "stream",
     "text": [
      "2021-01-11\n",
      "2019-01-04\n"
     ]
    }
   ],
   "source": [
    "# 위에서 찾은 순서를 이용해 index값을 구해보자\n",
    "print(samsung_price.index[samsung_price.argmax()]) # index 리스트를 통해 최댓값 일때 index value를 찾기\n",
    "print(samsung_price.index[samsung_price.argmin()]) # index 리스트를 통해 최소값 일때 index value를 찾기"
   ]
  },
  {
   "cell_type": "markdown",
   "id": "556f0165-d7e8-4493-a749-79e0de0f5198",
   "metadata": {},
   "source": [
    "## 1.7 Series 연산\n",
    "* 부제: 삼성전자 수익률 구하기"
   ]
  },
  {
   "cell_type": "code",
   "execution_count": 105,
   "id": "5023c0b2-4f21-4e2f-8fd7-a708eba32f85",
   "metadata": {},
   "outputs": [
    {
     "name": "stdout",
     "output_type": "stream",
     "text": [
      "Date\n",
      "2018-01-02    51020\n",
      "2018-01-03    51620\n",
      "2018-01-04    51080\n",
      "2018-01-05    52120\n",
      "2018-01-08    52020\n",
      "              ...  \n",
      "2021-12-13    76800\n",
      "2021-12-14    77000\n",
      "2021-12-15    77600\n",
      "2021-12-16    77800\n",
      "2021-12-17    78000\n",
      "Name: Close, Length: 977, dtype: int64\n"
     ]
    }
   ],
   "source": [
    "import pandas as pd\n",
    "\n",
    "samsung_price = pd.read_csv(\"삼성전자 종가.csv\", index_col=0, header=0).squeeze()\n",
    "print(samsung_price)"
   ]
  },
  {
   "cell_type": "code",
   "execution_count": 111,
   "id": "c7b577ef-673b-4686-a010-372dc3a8c744",
   "metadata": {},
   "outputs": [
    {
     "data": {
      "text/plain": [
       "Date\n",
       "2018-01-02        NaN\n",
       "2018-01-03    51020.0\n",
       "2018-01-04    51620.0\n",
       "2018-01-05    51080.0\n",
       "2018-01-08    52120.0\n",
       "               ...   \n",
       "2021-12-13    76900.0\n",
       "2021-12-14    76800.0\n",
       "2021-12-15    77000.0\n",
       "2021-12-16    77600.0\n",
       "2021-12-17    77800.0\n",
       "Name: Close, Length: 977, dtype: float64"
      ]
     },
     "execution_count": 111,
     "metadata": {},
     "output_type": "execute_result"
    }
   ],
   "source": [
    "# array.shift(n=1): value를 n칸씩 뒤로 밀어주는 메소드\n",
    "samsung_price.shift()"
   ]
  },
  {
   "cell_type": "code",
   "execution_count": 117,
   "id": "ae86d34a-de9b-4761-8683-5b6ce0bc95a3",
   "metadata": {},
   "outputs": [
    {
     "name": "stdout",
     "output_type": "stream",
     "text": [
      "Date\n",
      "2018-01-02       NaN\n",
      "2018-01-03     600.0\n",
      "2018-01-04    -540.0\n",
      "2018-01-05    1040.0\n",
      "2018-01-08    -100.0\n",
      "               ...  \n",
      "2021-12-13    -100.0\n",
      "2021-12-14     200.0\n",
      "2021-12-15     600.0\n",
      "2021-12-16     200.0\n",
      "2021-12-17     200.0\n",
      "Name: Close, Length: 977, dtype: float64\n"
     ]
    }
   ],
   "source": [
    "print(samsung_price - samsung_price.shift(1)) # 오늘의 값 - 하루 전 (첫 날은 NaN이 계산에 끼니까 NaN)"
   ]
  },
  {
   "cell_type": "code",
   "execution_count": 123,
   "id": "3f29d0c3-35bd-4849-a816-52404790afbe",
   "metadata": {},
   "outputs": [
    {
     "name": "stdout",
     "output_type": "stream",
     "text": [
      "Date\n",
      "2018-01-02         NaN\n",
      "2018-01-03    0.011760\n",
      "2018-01-04   -0.010461\n",
      "2018-01-05    0.020360\n",
      "2018-01-08   -0.001919\n",
      "                ...   \n",
      "2021-12-13   -0.001300\n",
      "2021-12-14    0.002604\n",
      "2021-12-15    0.007792\n",
      "2021-12-16    0.002577\n",
      "2021-12-17    0.002571\n",
      "Name: Close, Length: 977, dtype: float64\n"
     ]
    }
   ],
   "source": [
    "print((samsung_price - samsung_price.shift(1)) / samsung_price.shift(1)) # 수익률 시리즈 출력"
   ]
  },
  {
   "cell_type": "code",
   "execution_count": 127,
   "id": "6ebc4fd6-afe0-4176-8b90-719a24af1b11",
   "metadata": {},
   "outputs": [
    {
     "name": "stdout",
     "output_type": "stream",
     "text": [
      "Date\n",
      "2018-01-02         NaN\n",
      "2018-01-03    0.011760\n",
      "2018-01-04   -0.010461\n",
      "2018-01-05    0.020360\n",
      "2018-01-08   -0.001919\n",
      "                ...   \n",
      "2021-12-13   -0.001300\n",
      "2021-12-14    0.002604\n",
      "2021-12-15    0.007792\n",
      "2021-12-16    0.002577\n",
      "2021-12-17    0.002571\n",
      "Name: Close, Length: 977, dtype: float64\n"
     ]
    }
   ],
   "source": [
    "print(samsung_price.pct_change()) # 위에서 계산한 변동률을 계산해 출력해 주는 함수"
   ]
  },
  {
   "cell_type": "code",
   "execution_count": 138,
   "id": "c0dc1818-8321-4003-9b80-adc31e3d6da7",
   "metadata": {},
   "outputs": [
    {
     "name": "stdout",
     "output_type": "stream",
     "text": [
      "2020-03-24\n"
     ]
    }
   ],
   "source": [
    "# 그렇다면 최대 수익률을 구하는 법은? -> 배웠잔아!!!\n",
    "\n",
    "pct = samsung_price.pct_change()\n",
    "\n",
    "print(pct.index[pct.argmax()]) # 수익률 Series에서 argmax로 인덱스에 접근"
   ]
  },
  {
   "cell_type": "markdown",
   "id": "83e3616e-9da8-4f9f-9043-855eee80bd31",
   "metadata": {},
   "source": [
    "## 1.8 Nan값\n",
    "* fillna(n) Nan값을 n으로 채우기\n",
    "* dropna() Nan값 버리기"
   ]
  },
  {
   "cell_type": "code",
   "execution_count": 141,
   "id": "c875c809-96b8-41ce-9337-1849eaf6312f",
   "metadata": {},
   "outputs": [
    {
     "name": "stdout",
     "output_type": "stream",
     "text": [
      "Date\n",
      "2018-01-02         NaN\n",
      "2018-01-03    0.011760\n",
      "2018-01-04   -0.010461\n",
      "2018-01-05    0.020360\n",
      "2018-01-08   -0.001919\n",
      "                ...   \n",
      "2021-12-13   -0.001300\n",
      "2021-12-14    0.002604\n",
      "2021-12-15    0.007792\n",
      "2021-12-16    0.002577\n",
      "2021-12-17    0.002571\n",
      "Name: Close, Length: 977, dtype: float64\n"
     ]
    }
   ],
   "source": [
    "import pandas as pd\n",
    "\n",
    "samsung_price = pd.read_csv(\"삼성전자 종가.csv\", index_col=0, header=0).squeeze()\n",
    "pct = samsung_price.pct_change()\n",
    "print(pct)"
   ]
  },
  {
   "cell_type": "code",
   "execution_count": 148,
   "id": "3f29c72f-76c3-4747-9ce8-2e596336449e",
   "metadata": {},
   "outputs": [
    {
     "data": {
      "text/plain": [
       "Date\n",
       "2018-01-02    0.000000\n",
       "2018-01-03    0.011760\n",
       "2018-01-04   -0.010461\n",
       "2018-01-05    0.020360\n",
       "2018-01-08   -0.001919\n",
       "                ...   \n",
       "2021-12-13   -0.001300\n",
       "2021-12-14    0.002604\n",
       "2021-12-15    0.007792\n",
       "2021-12-16    0.002577\n",
       "2021-12-17    0.002571\n",
       "Name: Close, Length: 977, dtype: float64"
      ]
     },
     "execution_count": 148,
     "metadata": {},
     "output_type": "execute_result"
    }
   ],
   "source": [
    "# 계산 과정에서 결측치를 만들어 버리는 Nan값을 처리하기\n",
    "pct.fillna(0) # Nan값 0으로 채우기"
   ]
  },
  {
   "cell_type": "code",
   "execution_count": 150,
   "id": "934cfeb6-b126-4607-867e-cf4d3df2d955",
   "metadata": {},
   "outputs": [
    {
     "data": {
      "text/plain": [
       "Date\n",
       "2018-01-03    0.011760\n",
       "2018-01-04   -0.010461\n",
       "2018-01-05    0.020360\n",
       "2018-01-08   -0.001919\n",
       "2018-01-09   -0.031142\n",
       "                ...   \n",
       "2021-12-13   -0.001300\n",
       "2021-12-14    0.002604\n",
       "2021-12-15    0.007792\n",
       "2021-12-16    0.002577\n",
       "2021-12-17    0.002571\n",
       "Name: Close, Length: 976, dtype: float64"
      ]
     },
     "execution_count": 150,
     "metadata": {},
     "output_type": "execute_result"
    }
   ],
   "source": [
    "pct.dropna() # Nan값 제거"
   ]
  }
 ],
 "metadata": {
  "kernelspec": {
   "display_name": "Python 3 (ipykernel)",
   "language": "python",
   "name": "python3"
  },
  "language_info": {
   "codemirror_mode": {
    "name": "ipython",
    "version": 3
   },
   "file_extension": ".py",
   "mimetype": "text/x-python",
   "name": "python",
   "nbconvert_exporter": "python",
   "pygments_lexer": "ipython3",
   "version": "3.12.4"
  }
 },
 "nbformat": 4,
 "nbformat_minor": 5
}
