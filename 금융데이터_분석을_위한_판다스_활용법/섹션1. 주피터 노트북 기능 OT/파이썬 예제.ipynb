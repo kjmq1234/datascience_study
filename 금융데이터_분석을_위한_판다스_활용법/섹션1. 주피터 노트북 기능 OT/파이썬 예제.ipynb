{
 "cells": [
  {
   "cell_type": "code",
   "execution_count": 51,
   "id": "08510dc7-d8b4-4e50-8826-345970fdeb22",
   "metadata": {},
   "outputs": [
    {
     "name": "stdout",
     "output_type": "stream",
     "text": [
      "1 2\n"
     ]
    }
   ],
   "source": [
    "print(1, 2)"
   ]
  },
  {
   "cell_type": "code",
   "execution_count": 53,
   "id": "599c7f65-af57-44a3-b7df-8ddd09d16da6",
   "metadata": {},
   "outputs": [],
   "source": [
    "list_ex = list()"
   ]
  },
  {
   "cell_type": "code",
   "execution_count": 65,
   "id": "f8870720-18bd-4d8a-9342-0260a30fbc29",
   "metadata": {},
   "outputs": [],
   "source": [
    "list_ex.append(0)"
   ]
  },
  {
   "cell_type": "code",
   "execution_count": null,
   "id": "4f64ad42-7bd8-400e-a3b7-ba8eacf9c3a4",
   "metadata": {},
   "outputs": [],
   "source": [
    "list_ex.append(0)"
   ]
  },
  {
   "cell_type": "code",
   "execution_count": 57,
   "id": "b0d96d53-9a66-4679-a993-d4735d14ff3d",
   "metadata": {},
   "outputs": [
    {
     "name": "stdout",
     "output_type": "stream",
     "text": [
      "[1]\n"
     ]
    }
   ],
   "source": [
    "print(list_ex)"
   ]
  }
 ],
 "metadata": {
  "kernelspec": {
   "display_name": "Python 3 (ipykernel)",
   "language": "python",
   "name": "python3"
  },
  "language_info": {
   "codemirror_mode": {
    "name": "ipython",
    "version": 3
   },
   "file_extension": ".py",
   "mimetype": "text/x-python",
   "name": "python",
   "nbconvert_exporter": "python",
   "pygments_lexer": "ipython3",
   "version": "3.12.4"
  }
 },
 "nbformat": 4,
 "nbformat_minor": 5
}
