{
 "cells": [
  {
   "cell_type": "markdown",
   "id": "015301fa-440c-4fb1-8e4b-97d83665117f",
   "metadata": {},
   "source": [
    "# 판다스\n",
    "## 판다스\n",
    "### 판다스\n",
    "#### 판다스\n",
    "##### 판다스"
   ]
  },
  {
   "cell_type": "code",
   "execution_count": 4,
   "id": "11b6d5d3-6cf9-4de5-83ab-bad07f11be3c",
   "metadata": {},
   "outputs": [],
   "source": [
    "#의 갯수에 따라서 크기가 달라짐"
   ]
  },
  {
   "cell_type": "markdown",
   "id": "d001a112-30b3-44ca-9fba-ffd34517b736",
   "metadata": {},
   "source": [
    "스페이스바 두 번 누르고 엔터누르면  \n",
    "줄바꿈"
   ]
  },
  {
   "cell_type": "markdown",
   "id": "f50dc575-8934-459f-8856-16b256ca784f",
   "metadata": {},
   "source": [
    "< br>을 써주면<br>\n",
    "줄바꿈"
   ]
  },
  {
   "cell_type": "markdown",
   "id": "1ea786f3-ac1b-446b-9118-9537f55f8b49",
   "metadata": {},
   "source": [
    "<font color=blue> 폰트 컬러 지정 후 /폰트까지 색이 바뀜 </font>"
   ]
  },
  {
   "cell_type": "markdown",
   "id": "8baf3b09-a2eb-4bcf-84ad-8a63e4d2f298",
   "metadata": {},
   "source": [
    "원하는 글 아래에 *세개를 쓰면 밑줄이 그어짐\n",
    "***"
   ]
  },
  {
   "cell_type": "code",
   "execution_count": null,
   "id": "022e83b3-e015-4663-9b9a-1c4c9843f3fe",
   "metadata": {},
   "outputs": [],
   "source": []
  }
 ],
 "metadata": {
  "kernelspec": {
   "display_name": "Python 3 (ipykernel)",
   "language": "python",
   "name": "python3"
  },
  "language_info": {
   "codemirror_mode": {
    "name": "ipython",
    "version": 3
   },
   "file_extension": ".py",
   "mimetype": "text/x-python",
   "name": "python",
   "nbconvert_exporter": "python",
   "pygments_lexer": "ipython3",
   "version": "3.12.4"
  }
 },
 "nbformat": 4,
 "nbformat_minor": 5
}
