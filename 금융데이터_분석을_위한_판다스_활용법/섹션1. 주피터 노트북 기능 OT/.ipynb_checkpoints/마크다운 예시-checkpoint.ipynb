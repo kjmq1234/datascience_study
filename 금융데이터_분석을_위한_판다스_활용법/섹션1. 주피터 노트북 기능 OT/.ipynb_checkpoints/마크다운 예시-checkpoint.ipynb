{
 "cells": [
  {
   "cell_type": "markdown",
   "id": "015301fa-440c-4fb1-8e4b-97d83665117f",
   "metadata": {},
   "source": [
    "# 판다스\n",
    "## 판다스\n",
    "### 판다스\n",
    "#### 판다스\n",
    "##### 판다스"
   ]
  },
  {
   "cell_type": "code",
   "execution_count": 4,
   "id": "11b6d5d3-6cf9-4de5-83ab-bad07f11be3c",
   "metadata": {},
   "outputs": [],
   "source": [
    "#의 갯수에 따라서 크기가 달라짐"
   ]
  },
  {
   "cell_type": "markdown",
   "id": "d001a112-30b3-44ca-9fba-ffd34517b736",
   "metadata": {},
   "source": []
  }
 ],
 "metadata": {
  "kernelspec": {
   "display_name": "Python 3 (ipykernel)",
   "language": "python",
   "name": "python3"
  },
  "language_info": {
   "codemirror_mode": {
    "name": "ipython",
    "version": 3
   },
   "file_extension": ".py",
   "mimetype": "text/x-python",
   "name": "python",
   "nbconvert_exporter": "python",
   "pygments_lexer": "ipython3",
   "version": "3.12.4"
  }
 },
 "nbformat": 4,
 "nbformat_minor": 5
}
