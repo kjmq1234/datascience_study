{
 "cells": [
  {
   "cell_type": "code",
   "execution_count": 7,
   "id": "9f375a4b-29b2-49d5-a187-483a3482d2d6",
   "metadata": {},
   "outputs": [
    {
     "name": "stdout",
     "output_type": "stream",
     "text": [
      "10\n",
      "20\n",
      "30\n",
      "\n"
     ]
    }
   ],
   "source": [
    "# 튜플(인덱스 사용 가능)\n",
    "\n",
    "tuple = (10, 20, 30)\n",
    "\n",
    "print(f'{tuple[0]}\\n{tuple[1]}\\n{tuple[2]}\\n')"
   ]
  },
  {
   "cell_type": "code",
   "execution_count": 19,
   "id": "1b1925ab-c0a2-44bd-83f7-51524b0424d4",
   "metadata": {},
   "outputs": [
    {
     "ename": "TypeError",
     "evalue": "'tuple' object does not support item assignment",
     "output_type": "error",
     "traceback": [
      "\u001b[0;31m---------------------------------------------------------------------------\u001b[0m",
      "\u001b[0;31mTypeError\u001b[0m                                 Traceback (most recent call last)",
      "Cell \u001b[0;32mIn[19], line 5\u001b[0m\n\u001b[1;32m      1\u001b[0m \u001b[38;5;66;03m# 튜플의 특징\u001b[39;00m\n\u001b[1;32m      3\u001b[0m \u001b[38;5;28mtuple\u001b[39m \u001b[38;5;241m=\u001b[39m (\u001b[38;5;241m10\u001b[39m, \u001b[38;5;241m20\u001b[39m, \u001b[38;5;241m30\u001b[39m)\n\u001b[0;32m----> 5\u001b[0m \u001b[38;5;28mtuple\u001b[39m[\u001b[38;5;241m0\u001b[39m] \u001b[38;5;241m=\u001b[39m \u001b[38;5;241m1\u001b[39m\n",
      "\u001b[0;31mTypeError\u001b[0m: 'tuple' object does not support item assignment"
     ]
    }
   ],
   "source": [
    "# 튜플의 특징\n",
    "\n",
    "tuple = (10, 20, 30)\n",
    "\n",
    "tuple[0] = 1 # 튜플은 이미 정해진 값을 바꿀 수 없음"
   ]
  },
  {
   "cell_type": "code",
   "execution_count": 17,
   "id": "439482f3-2486-4795-95bb-a53b3fbc9401",
   "metadata": {},
   "outputs": [
    {
     "name": "stdout",
     "output_type": "stream",
     "text": [
      "<class 'int'>\n",
      "<class 'tuple'>\n"
     ]
    }
   ],
   "source": [
    "# 요소가 하나인 튜플\n",
    "\n",
    "tuple = (2) # 요소가 하나일 경우 그냥 괄호감싼 숫자로 인식\n",
    "\n",
    "tuple2 = (2, ) # 이때는 ','를 넣어서 튜플인걸 표시\n",
    "\n",
    "print(type(tuple))\n",
    "print(type(tuple2))"
   ]
  },
  {
   "cell_type": "code",
   "execution_count": 33,
   "id": "2fef0db8-807f-4231-b231-3c9119af7c0d",
   "metadata": {},
   "outputs": [
    {
     "name": "stdout",
     "output_type": "stream",
     "text": [
      "10\n",
      "20\n",
      "30\n"
     ]
    }
   ],
   "source": [
    "# 이름을 설정해준 튜플\n",
    "\n",
    "a, b, c = 10, 20, 30\n",
    "\n",
    "print(a)\n",
    "print(b)\n",
    "print(c)"
   ]
  },
  {
   "cell_type": "code",
   "execution_count": 31,
   "id": "adc2f597-6b5d-422d-8810-624b47761ef8",
   "metadata": {},
   "outputs": [
    {
     "name": "stdout",
     "output_type": "stream",
     "text": [
      "<class 'tuple'>\n",
      "(10, 20, 30, 40)\n"
     ]
    }
   ],
   "source": [
    "# 괄호가 없는 튜플\n",
    "\n",
    "tuple = 10, 20, 30, 40 # 이렇게 괄호가 없이 여러 값을 넣어주면 튜플에 저장됨\n",
    "\n",
    "print(type(tuple))\n",
    "print(tuple)"
   ]
  },
  {
   "cell_type": "code",
   "execution_count": 44,
   "id": "64f7cfbe-0b23-42f4-982c-160191302551",
   "metadata": {},
   "outputs": [
    {
     "name": "stdout",
     "output_type": "stream",
     "text": [
      "ㅎㅇ\n",
      "ㅎㅇ\n",
      "ㅎㅇ\n",
      "ㅎㅇ\n",
      "ㅎㅇ\n",
      "ㅎㅇ\n",
      "ㅎㅇ\n",
      "ㅎㅇ\n",
      "ㅎㅇ\n",
      "ㅎㅇ\n"
     ]
    }
   ],
   "source": [
    "# 람다: 매개변수로 함수를 사용하는 함수(함수포인터 같은 개념인듯)\n",
    "\n",
    "def call_10_times(func):\n",
    "    for i in range(10):\n",
    "        func()\n",
    "\n",
    "def hello():\n",
    "    print(\"ㅎㅇ\")\n",
    "\n",
    "call_10_times(hello)"
   ]
  },
  {
   "cell_type": "code",
   "execution_count": null,
   "id": "369446b1-2d56-4722-b95e-2885d643510b",
   "metadata": {},
   "outputs": [],
   "source": [
    "# map함수: map(함수, 리스트) -> 리스트의 요소를 함수에 넣어서 리턴된 값을 리스트 형식으로 반환\n",
    "# filter 함수: filter(함수, 리스트) -> 리스트의 요소를 함수에 넣은 뒤 True인 것을 리스트 형식으로 반환\n",
    "\n",
    "def power(item):\n",
    "    return item * it"
   ]
  }
 ],
 "metadata": {
  "kernelspec": {
   "display_name": "Python 3 (ipykernel)",
   "language": "python",
   "name": "python3"
  },
  "language_info": {
   "codemirror_mode": {
    "name": "ipython",
    "version": 3
   },
   "file_extension": ".py",
   "mimetype": "text/x-python",
   "name": "python",
   "nbconvert_exporter": "python",
   "pygments_lexer": "ipython3",
   "version": "3.12.4"
  }
 },
 "nbformat": 4,
 "nbformat_minor": 5
}
