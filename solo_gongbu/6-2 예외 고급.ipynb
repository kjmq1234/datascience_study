{
 "cells": [
  {
   "cell_type": "code",
   "execution_count": 1,
   "id": "77e8bde4-9b6b-47aa-899a-a8784f336102",
   "metadata": {},
   "outputs": [],
   "source": [
    "# 예외 객체: 예외가 발생하면 예외에 관련된 정보가 저장되는 곳\n",
    "\n",
    "# try: \n",
    "#     예외가 발생할 가능성이 있는 구문\n",
    "# except 예외 종류 as 예외 객체를 활용할 변수 이름:\n",
    "#     예외 발생시 실행할 구문"
   ]
  },
  {
   "cell_type": "code",
   "execution_count": 5,
   "id": "bae8a043-ca3e-4de6-bcde-d988e0ced5f9",
   "metadata": {},
   "outputs": [
    {
     "name": "stdin",
     "output_type": "stream",
     "text": [
      "정수 입력>  ㅁ\n"
     ]
    },
    {
     "name": "stdout",
     "output_type": "stream",
     "text": [
      "type(exception) <class 'ValueError'>\n",
      "exception:  invalid literal for int() with base 10: 'ㅁ'\n"
     ]
    }
   ],
   "source": [
    "# 어떤 예외인지 모를 경우 모든 예외의 부모 클래스인 'Exception'을 사용\n",
    "\n",
    "try:\n",
    "    # 숫자로 변환\n",
    "    number_input = int(input(\"정수 입력> \"))\n",
    "    print(number_input)\n",
    "\n",
    "except Exception as exception: # Exception 에러를 exception이라는 예외 객체에 집어넣음\n",
    "    # 에외 객체 출력하기\n",
    "    print(\"type(exception)\", type(exception))\n",
    "    print(\"exception: \", exception)"
   ]
  },
  {
   "cell_type": "code",
   "execution_count": 7,
   "id": "c269bfd7-b56f-4be9-aa20-db0007ba458e",
   "metadata": {},
   "outputs": [],
   "source": [
    "# 예외의 종류를 구분해 처리하기\n",
    "\n",
    "# try:\n",
    "#     예외가 발생할 가능성이 있는 구문\n",
    "# except 예외 종류1:\n",
    "#     예외1이 발생했을 때 실행할 구문\n",
    "# except 예외 종류2:\n",
    "#     예외2가 발생했을 때 실행할 구문\n",
    "# except 예외 종류3:\n",
    "#     예외3이 발생했을 때 실행할 구문"
   ]
  },
  {
   "cell_type": "code",
   "execution_count": 17,
   "id": "62fea222-4a23-4a4e-b01d-ebd9bddc0d10",
   "metadata": {},
   "outputs": [
    {
     "name": "stdin",
     "output_type": "stream",
     "text": [
      "정수 입력>  100\n"
     ]
    },
    {
     "name": "stdout",
     "output_type": "stream",
     "text": [
      "리스트의 인덱스를 벗어났습니다\n",
      "exception:  list index out of range\n"
     ]
    }
   ],
   "source": [
    "# IndexError와 ValueError 구분해 처리하기\n",
    "\n",
    "# 변수 선언\n",
    "list = [52, 273, 32, 72, 100]\n",
    "\n",
    "try:\n",
    "    # 입력 받기\n",
    "    number_input = int(input(\"정수 입력> \"))\n",
    "    # 리스트 요소 출력\n",
    "    print(\"{}번째 요소: {}\".format(number_input, list[number_input])) # 이 때 예외가 날 수 있음\n",
    "\n",
    "except ValueError as exception:\n",
    "    # ValueError가 발생하는 경우\n",
    "    print(\"정수를 입력해주세요\")\n",
    "    print(\"exception: \", exception)\n",
    "\n",
    "except IndexError as exception:\n",
    "    # IndexError가 발생하는 경우\n",
    "    print(\"리스트의 인덱스를 벗어났습니다\")\n",
    "    print(\"exception: \", exception)"
   ]
  },
  {
   "cell_type": "code",
   "execution_count": 23,
   "id": "61088e15-c4f8-46b1-b622-318669121726",
   "metadata": {},
   "outputs": [
    {
     "name": "stdin",
     "output_type": "stream",
     "text": [
      "정수 입력>  1\n"
     ]
    },
    {
     "name": "stdout",
     "output_type": "stream",
     "text": [
      "1번째 요소: 273\n"
     ]
    },
    {
     "ename": "NameError",
     "evalue": "name '예외' is not defined",
     "output_type": "error",
     "traceback": [
      "\u001b[0;31m---------------------------------------------------------------------------\u001b[0m",
      "\u001b[0;31mNameError\u001b[0m                                 Traceback (most recent call last)",
      "Cell \u001b[0;32mIn[23], line 11\u001b[0m\n\u001b[1;32m      9\u001b[0m     \u001b[38;5;66;03m# 리스트 요소 출력\u001b[39;00m\n\u001b[1;32m     10\u001b[0m     \u001b[38;5;28mprint\u001b[39m(\u001b[38;5;124m\"\u001b[39m\u001b[38;5;132;01m{}\u001b[39;00m\u001b[38;5;124m번째 요소: \u001b[39m\u001b[38;5;132;01m{}\u001b[39;00m\u001b[38;5;124m\"\u001b[39m\u001b[38;5;241m.\u001b[39mformat(number_input, \u001b[38;5;28mlist\u001b[39m[number_input])) \u001b[38;5;66;03m# 이 때 예외가 날 수 있음\u001b[39;00m\n\u001b[0;32m---> 11\u001b[0m     예외\u001b[38;5;241m.\u001b[39m발생해주세요() \u001b[38;5;66;03m# 이 때 NameError가 발생하지만 예외 처리가 되어있지 않음\u001b[39;00m\n\u001b[1;32m     13\u001b[0m \u001b[38;5;28;01mexcept\u001b[39;00m \u001b[38;5;167;01mValueError\u001b[39;00m \u001b[38;5;28;01mas\u001b[39;00m exception:\n\u001b[1;32m     14\u001b[0m     \u001b[38;5;66;03m# ValueError가 발생하는 경우\u001b[39;00m\n\u001b[1;32m     15\u001b[0m     \u001b[38;5;28mprint\u001b[39m(\u001b[38;5;124m\"\u001b[39m\u001b[38;5;124m정수를 입력해주세요\u001b[39m\u001b[38;5;124m\"\u001b[39m)\n",
      "\u001b[0;31mNameError\u001b[0m: name '예외' is not defined"
     ]
    }
   ],
   "source": [
    "# 모든 예외를 처리하기\n",
    "\n",
    "# 변수 선언\n",
    "list = [52, 273, 32, 72, 100]\n",
    "\n",
    "try:\n",
    "    # 입력 받기\n",
    "    number_input = int(input(\"정수 입력> \"))\n",
    "    # 리스트 요소 출력\n",
    "    print(\"{}번째 요소: {}\".format(number_input, list[number_input])) # 이 때 예외가 날 수 있음\n",
    "    예외.발생해주세요() # 이 때 NameError가 발생하지만 예외 처리가 되어있지 않음\n",
    "\n",
    "except ValueError as exception:\n",
    "    # ValueError가 발생하는 경우\n",
    "    print(\"정수를 입력해주세요\")\n",
    "    print(\"exception: \", exception)\n",
    "\n",
    "except IndexError as exception:\n",
    "    # IndexError가 발생하는 경우\n",
    "    print(\"리스트의 인덱스를 벗어났습니다\")\n",
    "    print(\"exception: \", exception)"
   ]
  },
  {
   "cell_type": "code",
   "execution_count": 27,
   "id": "36a68c7e-362e-4b59-8014-551eb1f753b2",
   "metadata": {},
   "outputs": [
    {
     "name": "stdin",
     "output_type": "stream",
     "text": [
      "정수 입력>  1\n"
     ]
    },
    {
     "name": "stdout",
     "output_type": "stream",
     "text": [
      "1번째 요소: 273\n",
      "파악하지 못한 예외가 발생했습니다\n",
      "<class 'NameError'> name '예외' is not defined\n"
     ]
    }
   ],
   "source": [
    "# 모든 예외를 처리하기 -> 해결법\n",
    "# 예외 처리의 마지막에는 꼭 예외의 조상 클래스인 \"Exception\"를 넣어서 처리\n",
    "\n",
    "# 변수 선언\n",
    "list = [52, 273, 32, 72, 100]\n",
    "\n",
    "try:\n",
    "    # 입력 받기\n",
    "    number_input = int(input(\"정수 입력> \"))\n",
    "    # 리스트 요소 출력\n",
    "    print(\"{}번째 요소: {}\".format(number_input, list[number_input])) # 이 때 예외가 날 수 있음\n",
    "    예외.발생해주세요() # 이 때 NameError가 발생하지만 예외 처리가 되어있지 않음\n",
    "\n",
    "except ValueError as exception:\n",
    "    # ValueError가 발생하는 경우\n",
    "    print(\"정수를 입력해주세요\")\n",
    "    print(\"exception: \", exception)\n",
    "\n",
    "except IndexError as exception:\n",
    "    # IndexError가 발생하는 경우\n",
    "    print(\"리스트의 인덱스를 벗어났습니다\")\n",
    "    print(\"exception: \", exception)\n",
    "\n",
    "except Exception as exception: # 모든 예외 클래스의 조상클래스는 Exception이므로 예외가 일어나면 꼭 여기에는 걸림\n",
    "    # 처리해준 예외 이외의 예외가 발생한 경우\n",
    "    print(\"파악하지 못한 예외가 발생했습니다\")\n",
    "    print(type(exception), exception)"
   ]
  },
  {
   "cell_type": "code",
   "execution_count": 37,
   "id": "e44a50a1-5290-4acc-b0c4-da6445dbf9f6",
   "metadata": {},
   "outputs": [],
   "source": [
    "# raise 구문: 예외를 일으키는 구문\n",
    "\n",
    "# 'raise 예외 객체' 형태로 사용\n",
    "# -> 이 때 출력되는 메시지를 원하는 형태로 만들고 싶다면 예외 클래스를 만들어야 함"
   ]
  },
  {
   "cell_type": "code",
   "execution_count": 39,
   "id": "b1c49d84-50ed-4b9a-941e-fc411411d08d",
   "metadata": {},
   "outputs": [
    {
     "name": "stdin",
     "output_type": "stream",
     "text": [
      "정수 입력>  -1\n"
     ]
    },
    {
     "ename": "NotImplementedError",
     "evalue": "",
     "output_type": "error",
     "traceback": [
      "\u001b[0;31m---------------------------------------------------------------------------\u001b[0m",
      "\u001b[0;31mNotImplementedError\u001b[0m                       Traceback (most recent call last)",
      "Cell \u001b[0;32mIn[39], line 13\u001b[0m\n\u001b[1;32m      9\u001b[0m     \u001b[38;5;28;01mraise\u001b[39;00m \u001b[38;5;167;01mNotImplementedError\u001b[39;00m\n\u001b[1;32m     11\u001b[0m \u001b[38;5;28;01melse\u001b[39;00m:\n\u001b[1;32m     12\u001b[0m     \u001b[38;5;66;03m# 음수일 때: 아직 미구현 상태입니다.\u001b[39;00m\n\u001b[0;32m---> 13\u001b[0m     \u001b[38;5;28;01mraise\u001b[39;00m \u001b[38;5;167;01mNotImplementedError\u001b[39;00m\n",
      "\u001b[0;31mNotImplementedError\u001b[0m: "
     ]
    }
   ],
   "source": [
    "# 아직 구현되지 않은 부분에서 강제로 예외를 발생시키는 예시\n",
    "# 입력 받기\n",
    "num = input(\"정수 입력> \")\n",
    "num = int(num)\n",
    "\n",
    "# 조건문 사용\n",
    "if num > 0:\n",
    "    # 양수일 때: 아직 미구현 상태입니다.\n",
    "    raise NotImplementedError\n",
    "\n",
    "else:\n",
    "    # 음수일 때: 아직 미구현 상태입니다.\n",
    "    raise NotImplementedError"
   ]
  }
 ],
 "metadata": {
  "kernelspec": {
   "display_name": "Python 3 (ipykernel)",
   "language": "python",
   "name": "python3"
  },
  "language_info": {
   "codemirror_mode": {
    "name": "ipython",
    "version": 3
   },
   "file_extension": ".py",
   "mimetype": "text/x-python",
   "name": "python",
   "nbconvert_exporter": "python",
   "pygments_lexer": "ipython3",
   "version": "3.12.4"
  }
 },
 "nbformat": 4,
 "nbformat_minor": 5
}
