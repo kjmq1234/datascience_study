{
 "cells": [
  {
   "cell_type": "code",
   "execution_count": 51,
   "id": "bb06fdb5-a9a2-4899-ab7a-f8f39bad8e1b",
   "metadata": {},
   "outputs": [
    {
     "ename": "AttributeError",
     "evalue": "module 'test_module' has no attribute 'get_circumference'",
     "output_type": "error",
     "traceback": [
      "\u001b[0;31m---------------------------------------------------------------------------\u001b[0m",
      "\u001b[0;31mAttributeError\u001b[0m                            Traceback (most recent call last)",
      "Cell \u001b[0;32mIn[51], line 4\u001b[0m\n\u001b[1;32m      2\u001b[0m \u001b[38;5;28;01mimport\u001b[39;00m \u001b[38;5;21;01mtest_module\u001b[39;00m \u001b[38;5;28;01mas\u001b[39;00m \u001b[38;5;21;01mtest\u001b[39;00m\n\u001b[1;32m      3\u001b[0m \u001b[38;5;66;03m# radius = test\u001b[39;00m\n\u001b[0;32m----> 4\u001b[0m \u001b[38;5;28mprint\u001b[39m(test\u001b[38;5;241m.\u001b[39mget_circumference(radius))\n",
      "\u001b[0;31mAttributeError\u001b[0m: module 'test_module' has no attribute 'get_circumference'"
     ]
    }
   ],
   "source": [
    "# test_module 파일 가져오기\n",
    "import test_module as test\n",
    "# radius = test\n",
    "print(test.get_circumference(radius))"
   ]
  },
  {
   "cell_type": "code",
   "execution_count": 33,
   "id": "312b02a9-2a86-4d0d-b0f3-f27f6a14de2c",
   "metadata": {},
   "outputs": [
    {
     "ename": "AttributeError",
     "evalue": "module 'test_module' has no attribute 'number_input'",
     "output_type": "error",
     "traceback": [
      "\u001b[0;31m---------------------------------------------------------------------------\u001b[0m",
      "\u001b[0;31mAttributeError\u001b[0m                            Traceback (most recent call last)",
      "Cell \u001b[0;32mIn[33], line 1\u001b[0m\n\u001b[0;32m----> 1\u001b[0m radius \u001b[38;5;241m=\u001b[39m test\u001b[38;5;241m.\u001b[39mnumber_input()\n\u001b[1;32m      2\u001b[0m \u001b[38;5;28mprint\u001b[39m(test\u001b[38;5;241m.\u001b[39mget_circumference(radius))\n",
      "\u001b[0;31mAttributeError\u001b[0m: module 'test_module' has no attribute 'number_input'"
     ]
    }
   ],
   "source": []
  },
  {
   "cell_type": "code",
   "execution_count": null,
   "id": "312e9ef5-0793-4198-b04e-8b11ca6d8324",
   "metadata": {},
   "outputs": [],
   "source": []
  }
 ],
 "metadata": {
  "kernelspec": {
   "display_name": "Python 3 (ipykernel)",
   "language": "python",
   "name": "python3"
  },
  "language_info": {
   "codemirror_mode": {
    "name": "ipython",
    "version": 3
   },
   "file_extension": ".py",
   "mimetype": "text/x-python",
   "name": "python",
   "nbconvert_exporter": "python",
   "pygments_lexer": "ipython3",
   "version": "3.12.4"
  }
 },
 "nbformat": 4,
 "nbformat_minor": 5
}
