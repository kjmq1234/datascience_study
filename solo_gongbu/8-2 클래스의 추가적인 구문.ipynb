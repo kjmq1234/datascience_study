{
 "cells": [
  {
   "cell_type": "code",
   "execution_count": 7,
   "id": "73bf63fa-0fd1-47ed-a375-2bfb0261a756",
   "metadata": {},
   "outputs": [
    {
     "name": "stdout",
     "output_type": "stream",
     "text": [
      "True\n"
     ]
    }
   ],
   "source": [
    "# isinstance(인스턴스, 클래스): 객체가 해당 클래스의 인스턴스인지 확인\n",
    "\n",
    "# 클래스 선언\n",
    "class Student:\n",
    "    def __init__(self):\n",
    "        pass\n",
    "\n",
    "# 객체 선언\n",
    "student = Student()\n",
    "\n",
    "# 인스턴스 확인하기\n",
    "print(isinstance(student, Student))"
   ]
  },
  {
   "cell_type": "code",
   "execution_count": 13,
   "id": "61958185-b642-43a1-83ab-a822100ad75b",
   "metadata": {},
   "outputs": [
    {
     "name": "stdout",
     "output_type": "stream",
     "text": [
      "공부를 합니다.\n",
      "공부를 합니다.\n",
      "학생을 가르칩니다.\n",
      "공부를 합니다.\n",
      "공부를 합니다.\n"
     ]
    }
   ],
   "source": [
    "# isinstance() 함수의 활용\n",
    "\n",
    "# 학생 클래스 선언\n",
    "class Student:\n",
    "    def study(self):\n",
    "        print(\"공부를 합니다.\")\n",
    "\n",
    "# 선생 클래스 선언\n",
    "class Teacher:\n",
    "    def teach(self):\n",
    "        print(\"학생을 가르칩니다.\")\n",
    "\n",
    "# 교실 내부의 객체 리스트를 생성합니다.\n",
    "classroom = [Student(), Student(), Teacher(), Student(), Student()]\n",
    "\n",
    "# 여러 종류의 객체를 한 리스트에 묶어서 객체별로 다른 동작을 하게함\n",
    "for person in classroom:\n",
    "    if isinstance(person, Teacher):\n",
    "        person.teach()\n",
    "    else:\n",
    "        person.study()"
   ]
  },
  {
   "cell_type": "code",
   "execution_count": 23,
   "id": "abfe988b-816c-4b51-adfb-414226e9c5ea",
   "metadata": {},
   "outputs": [
    {
     "name": "stdout",
     "output_type": "stream",
     "text": [
      "이름\t총점\t평균\n",
      "윤인성\t185\t46.25\n",
      "연하진\t171\t42.75\n",
      "구지연\t178\t44.5\n",
      "나선주\t172\t43.0\n"
     ]
    }
   ],
   "source": [
    "# __<이름>__() 형태의 함수들: 파이썬의 클래스 보조 기능\n",
    "# __str__() 함수: str()함수의 매개변수로 해당 함수가 구현된 클래스를 넣을 경우 호출\n",
    "\n",
    "# 클래스 선언\n",
    "class Student:\n",
    "    def __init__(self, name, korean, math):\n",
    "        self.name = name\n",
    "        self.korean = korean\n",
    "        self.math = math\n",
    "\n",
    "    def get_sum(self):\n",
    "        return self.korean + self.math\n",
    "\n",
    "    def get_avg(self):\n",
    "        return self.get_sum() / 4\n",
    "\n",
    "    # __str__의 이름으로 str() 오버라이딩(?)\n",
    "    def __str__(self):\n",
    "        return \"{}\\t{}\\t{}\".format(\n",
    "            self.name,\n",
    "            self.get_sum(),\n",
    "            self.get_avg()\n",
    "            )\n",
    "\n",
    "# 리스트 선언    \n",
    "students = [\n",
    "    Student(\"윤인성\", 87, 98),\n",
    "    Student(\"연하진\", 79, 92),\n",
    "    Student(\"구지연\", 83, 95),\n",
    "    Student(\"나선주\", 82, 90)]\n",
    "\n",
    "# 출력\n",
    "print(\"이름\", \"총점\", \"평균\", sep=\"\\t\")\n",
    "for student in students:\n",
    "    print(str(student)) # str을 호출했을 때 오버라이딩된 str이 사용됨"
   ]
  },
  {
   "cell_type": "code",
   "execution_count": 27,
   "id": "5f62afd5-e9b0-431e-b01e-8050754bc79f",
   "metadata": {},
   "outputs": [
    {
     "name": "stdout",
     "output_type": "stream",
     "text": [
      "False\n",
      "True\n",
      "True\n",
      "True\n",
      "False\n",
      "False\n"
     ]
    }
   ],
   "source": [
    "# 연산자 오버라이딩\n",
    "\n",
    "# __eq__: ==, __ne__: !=, __gt__: >\n",
    "# __ge__: >=, __lt__: <, __le__: <=\n",
    "\n",
    "# 클래스 선언\n",
    "class Student:\n",
    "    def __init__(self, name, korean, math):\n",
    "        self.name = name\n",
    "        self.korean = korean\n",
    "        self.math = math\n",
    "\n",
    "    def get_sum(self):\n",
    "        return self.korean + self.math\n",
    "\n",
    "    def get_avg(self):\n",
    "        return self.get_sum() / 4\n",
    "\n",
    "    # 연산자 오버라이딩 함수\n",
    "    def __eq__(self, value):\n",
    "        return self.get_sum() == value.get_sum()\n",
    "\n",
    "    def __ne__(self, value):\n",
    "        return self.get_sum() != value.get_sum()\n",
    "\n",
    "    def __gt__(self, value):\n",
    "        return self.get_sum() > value.get_sum()\n",
    "\n",
    "    def __ge__(self, value):\n",
    "        return self.get_sum() >= value.get_sum()\n",
    "\n",
    "    def __lt__(self, value):\n",
    "        return self.get_sum() < value.get_sum()\n",
    "\n",
    "    def __le__(self, value):\n",
    "        return self.get_sum() <= value.get_sum()\n",
    "\n",
    "\n",
    "# 학생 선언\n",
    "student_a = Student(\"윤인성\", 87, 99)\n",
    "student_b = Student(\"연하진\", 85, 89)\n",
    "\n",
    "# 출력 -> 객체 안에 들어있는 값이 여러 개임에도 연산자 오버라이딩을 통해 제대로 작동함을 알 수 있음\n",
    "print(student_a == student_b)\n",
    "print(student_a != student_b)\n",
    "print(student_a > student_b)\n",
    "print(student_a >= student_b)\n",
    "print(student_a < student_b)\n",
    "print(student_a <= student_b)"
   ]
  },
  {
   "cell_type": "code",
   "execution_count": 29,
   "id": "c218b84c-ed13-480c-8033-48dc965ece1d",
   "metadata": {},
   "outputs": [],
   "source": [
    "# 클래스 변수: 클래스가 가지고 있는 변수\n",
    "\n",
    "# 클래스 변수 선언\n",
    "# class 클래스 이름:\n",
    "    # 클래스 변수 = 값\n",
    "\n",
    "# 클래스 변수에 접근\n",
    "# 클래스 이름.변수 이름"
   ]
  },
  {
   "cell_type": "code",
   "execution_count": 43,
   "id": "3bab80e0-64b8-425b-b198-eec43b7e063a",
   "metadata": {},
   "outputs": [
    {
     "name": "stdout",
     "output_type": "stream",
     "text": [
      "1번째 학생이 생성되었습니다.\n",
      "2번째 학생이 생성되었습니다.\n",
      "3번째 학생이 생성되었습니다.\n",
      "4번째 학생이 생성되었습니다.\n"
     ]
    }
   ],
   "source": [
    "# 클래스 선언\n",
    "class Student:\n",
    "    # 클래스 변수 선언\n",
    "    count = 0\n",
    "\n",
    "    \n",
    "    def __init__(self, name, korean, math):\n",
    "        self.name = name\n",
    "        self.korean = korean\n",
    "        self.math = math\n",
    "        Student.count += 1         # 클래스 변수 조작\n",
    "        print(f\"{Student.count}번째 학생이 생성되었습니다.\")\n",
    "\n",
    "# 리스트 선언    \n",
    "students = [\n",
    "    Student(\"윤인성\", 87, 98),\n",
    "    Student(\"연하진\", 79, 92),\n",
    "    Student(\"구지연\", 83, 95),\n",
    "    Student(\"나선주\", 82, 90)]"
   ]
  },
  {
   "cell_type": "code",
   "execution_count": 17,
   "id": "f9aa6eb3-dca5-42b5-82b1-6ff87725f3d9",
   "metadata": {},
   "outputs": [],
   "source": [
    "# 서로 다른 객체가 여러개임에도 1씩 커지는걸 보아\n",
    "# 인스턴스가 아닌 클래스가 가지고 있는 변수라고 봐야함"
   ]
  },
  {
   "cell_type": "code",
   "execution_count": 19,
   "id": "7721bf21-263b-44fb-a95a-8387ba79ac46",
   "metadata": {},
   "outputs": [],
   "source": [
    "# 클래스 함수: 그냥 클래스가 가진 함수\n",
    "# @classmethod(데코레이터)를 통해 생성\n",
    "\n",
    "# class 클래스 이름:\n",
    "#     @classmethod\n",
    "#         def 클래스 함수(cls, 매개변수):\n",
    "#             pass\n",
    "\n",
    "# 클래스 함수의 첫 매개변수는 클래스 자체가 들어옴(cls라고 표기)"
   ]
  },
  {
   "cell_type": "code",
   "execution_count": 21,
   "id": "6e1d0917-114b-429f-b86a-83dd7ce45d71",
   "metadata": {},
   "outputs": [],
   "source": [
    "# 클래스 함수 호출하기\n",
    "\n",
    "# 클래스 이름.함수 이름(매개변수)"
   ]
  },
  {
   "cell_type": "code",
   "execution_count": 26,
   "id": "e46b4e3e-839f-4540-9ea7-3e643849d0eb",
   "metadata": {},
   "outputs": [
    {
     "name": "stdout",
     "output_type": "stream",
     "text": [
      "------  학생 목록 ------\n",
      "이름\t총점\t평균\n",
      "윤인성\t185\t46.25\n",
      "------ ------- ------\n",
      "연하진\t171\t42.75\n",
      "------ ------- ------\n",
      "구지연\t178\t44.5\n",
      "------ ------- ------\n",
      "나선주\t172\t43.0\n",
      "------ ------- ------\n"
     ]
    }
   ],
   "source": [
    "# 클래스 선언\n",
    "class Student:\n",
    "\n",
    "    # 클래스 변수\n",
    "    count = 0\n",
    "    students = []\n",
    "\n",
    "    #클래스 함수\n",
    "    @classmethod\n",
    "    def print(cls): # 클래스 자체를 뜻하는 cls가 매개변수\n",
    "        print(\"------  학생 목록 ------\")\n",
    "        print(\"이름\\t총점\\t평균\")\n",
    "        for student in cls.students:\n",
    "            print(str(student))\n",
    "            print(\"------ ------- ------\")\n",
    "\n",
    "        \n",
    "    def __init__(self, name, korean, math):\n",
    "        self.name = name\n",
    "        self.korean = korean\n",
    "        self.math = math\n",
    "        Student.count += 1\n",
    "        Student.students.append(self) # 클래스 변수로 선언한 리스트에 넣어줘서 계속 저장할 수 있게함\n",
    "\n",
    "    def get_sum(self):\n",
    "        return self.korean + self.math\n",
    "\n",
    "    def get_avg(self):\n",
    "        return self.get_sum() / 4\n",
    "\n",
    "    def __str__(self):\n",
    "        return \"{}\\t{}\\t{}\".format(\n",
    "            self.name,\n",
    "            self.get_sum(),\n",
    "            self.get_avg()\n",
    "            )\n",
    "\n",
    "# 리스트 선언    \n",
    "Student(\"윤인성\", 87, 98)\n",
    "Student(\"연하진\", 79, 92)\n",
    "Student(\"구지연\", 83, 95)\n",
    "Student(\"나선주\", 82, 90)\n",
    "\n",
    "Student.print()"
   ]
  },
  {
   "cell_type": "code",
   "execution_count": 46,
   "id": "409f52b4-8716-44db-baa7-ccdee2b65b13",
   "metadata": {},
   "outputs": [
    {
     "name": "stdout",
     "output_type": "stream",
     "text": [
      "원의 둘레: 62.83185307179586\n",
      "원의 넓이: 314.1592653589793\n"
     ]
    },
    {
     "ename": "AttributeError",
     "evalue": "'Circle' object has no attribute '__radius'",
     "output_type": "error",
     "traceback": [
      "\u001b[0;31m---------------------------------------------------------------------------\u001b[0m",
      "\u001b[0;31mAttributeError\u001b[0m                            Traceback (most recent call last)",
      "Cell \u001b[0;32mIn[46], line 21\u001b[0m\n\u001b[1;32m     18\u001b[0m \u001b[38;5;28mprint\u001b[39m(\u001b[38;5;124m\"\u001b[39m\u001b[38;5;124m원의 둘레:\u001b[39m\u001b[38;5;124m\"\u001b[39m, circle\u001b[38;5;241m.\u001b[39mget_circumference())\n\u001b[1;32m     19\u001b[0m \u001b[38;5;28mprint\u001b[39m(\u001b[38;5;124m\"\u001b[39m\u001b[38;5;124m원의 넓이:\u001b[39m\u001b[38;5;124m\"\u001b[39m, circle\u001b[38;5;241m.\u001b[39mget_area())\n\u001b[0;32m---> 21\u001b[0m \u001b[38;5;28mprint\u001b[39m(circle\u001b[38;5;241m.\u001b[39m__radius)\n",
      "\u001b[0;31mAttributeError\u001b[0m: 'Circle' object has no attribute '__radius'"
     ]
    }
   ],
   "source": [
    "# 프라이빗 변수: 접근 지정자 설정을 통해 외부에서 변수를 건들 수 없게 만드는 것\n",
    "\n",
    "# 모듈을 가져오기\n",
    "import math\n",
    "\n",
    "# 클래스 선언\n",
    "class Circle:\n",
    "    \n",
    "    def __init__(self, radius):\n",
    "        self.__radius = radius\n",
    "    def get_circumference(self):\n",
    "        return 2 * math.pi * self.__radius # 클래스 안에서는 사용 가능\n",
    "    def get_area(self):\n",
    "        return math.pi * (self.__radius ** 2)\n",
    "\n",
    "# 원의 둘레와 넓이를 구합니다.\n",
    "circle = Circle(10)\n",
    "print(\"원의 둘레:\", circle.get_circumference())\n",
    "print(\"원의 넓이:\", circle.get_area())\n",
    "\n",
    "print(circle.__radius) # 클래스 밖에서는 접근할 수 없음"
   ]
  },
  {
   "cell_type": "code",
   "execution_count": 80,
   "id": "c005d7a9-8303-47a9-aa15-50f017b27b4d",
   "metadata": {},
   "outputs": [
    {
     "name": "stdout",
     "output_type": "stream",
     "text": [
      "원의 둘레: 62.83185307179586\n",
      "원의 넓이: 314.1592653589793\n",
      "radius: 10\n",
      "\n",
      "radius: 2\n",
      "원의 둘레: 12.566370614359172\n",
      "원의 넓이: 12.566370614359172\n"
     ]
    }
   ],
   "source": [
    "# 게터와 세터: 외부에서 프라이빗 변수에 접근하기 위한 함수\n",
    "\n",
    "# 모듈을 가져오기\n",
    "import math\n",
    "\n",
    "# 클래스 선언\n",
    "class Circle:\n",
    "    \n",
    "    def __init__(self, radius):\n",
    "        self.__radius = radius\n",
    "    def get_circumference(self):\n",
    "        return 2 * math.pi * self.__radius # 클래스 안에서는 사용 가능\n",
    "    def get_area(self):\n",
    "        return math.pi * (self.__radius ** 2)\n",
    "\n",
    "    # 게터와 세터를 선언\n",
    "    def get_radius(self):\n",
    "        return self.__radius\n",
    "    def set_radius(self, value):\n",
    "        self.__radius = value\n",
    "        \n",
    "# 원의 둘레와 넓이를 구합니다.\n",
    "circle = Circle(10)\n",
    "print(\"원의 둘레:\", circle.get_circumference())\n",
    "print(\"원의 넓이:\", circle.get_area())\n",
    "\n",
    "# 게터를 통해 변수에 접근\n",
    "print(\"radius:\", circle.get_radius())\n",
    "print()\n",
    "\n",
    "# radius가 2일떄 원의 둘레와 넓이 구하기\n",
    "circle.set_radius(2)\n",
    "print(\"radius:\", circle.get_radius())\n",
    "print(\"원의 둘레:\", circle.get_circumference())\n",
    "print(\"원의 넓이:\", circle.get_area())"
   ]
  },
  {
   "cell_type": "code",
   "execution_count": 92,
   "id": "bf554521-faee-4c55-9f8f-3a7a70b44f89",
   "metadata": {},
   "outputs": [
    {
     "name": "stdout",
     "output_type": "stream",
     "text": [
      "원의 둘레: 62.83185307179586\n",
      "원의 넓이: 314.1592653589793\n",
      "radius: 10\n",
      "\n",
      "radius: 2\n",
      "원의 둘레: 12.566370614359172\n",
      "원의 넓이: 12.566370614359172\n"
     ]
    }
   ],
   "source": [
    "# 데코레이터를 사용해 게터와 세터 만들기\n",
    "\n",
    "# @property와 @<변수 이름>.setter\n",
    "\n",
    "\n",
    "# 모듈을 가져오기\n",
    "import math\n",
    "\n",
    "# 클래스 선언\n",
    "class Circle:\n",
    "    \n",
    "    def __init__(self, radius):\n",
    "        self.__radius = radius\n",
    "    def get_circumference(self):\n",
    "        return 2 * math.pi * self.__radius # 클래스 안에서는 사용 가능\n",
    "    def get_area(self):\n",
    "        return math.pi * (self.__radius ** 2)\n",
    "\n",
    "    # 게터와 세터를 선언\n",
    "    @property\n",
    "    def radius(self): # getter 함수\n",
    "        return self.__radius\n",
    "    @radius.setter\n",
    "    def radius(self, value): # setter 함수\n",
    "        self.__radius = value\n",
    "        \n",
    "# 원의 둘레와 넓이를 구합니다.\n",
    "circle = Circle(10)\n",
    "print(\"원의 둘레:\", circle.get_circumference())\n",
    "print(\"원의 넓이:\", circle.get_area())\n",
    "\n",
    "# 게터를 통해 변수에 접근\n",
    "print(\"radius:\", circle.radius) #getter를 사용하면 변수처럼 접근 가능\n",
    "print()\n",
    "\n",
    "# radius가 2일떄 원의 둘레와 넓이 구하기\n",
    "circle.radius = 2 # setter를 사용하면 변수처럼 변경 가능\n",
    "print(\"radius:\", circle.radius)\n",
    "print(\"원의 둘레:\", circle.get_circumference())\n",
    "print(\"원의 넓이:\", circle.get_area())"
   ]
  }
 ],
 "metadata": {
  "kernelspec": {
   "display_name": "Python 3 (ipykernel)",
   "language": "python",
   "name": "python3"
  },
  "language_info": {
   "codemirror_mode": {
    "name": "ipython",
    "version": 3
   },
   "file_extension": ".py",
   "mimetype": "text/x-python",
   "name": "python",
   "nbconvert_exporter": "python",
   "pygments_lexer": "ipython3",
   "version": "3.12.4"
  }
 },
 "nbformat": 4,
 "nbformat_minor": 5
}
