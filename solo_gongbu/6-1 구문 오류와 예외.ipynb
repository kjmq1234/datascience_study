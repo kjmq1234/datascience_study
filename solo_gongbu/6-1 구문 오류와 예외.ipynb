{
 "cells": [
  {
   "cell_type": "code",
   "execution_count": 1,
   "id": "a32e81ff-fb3e-4b6f-a1af-56641b0b9c7d",
   "metadata": {},
   "outputs": [],
   "source": [
    "# 오류의 종류\n",
    "\n",
    "# 프로그램 실행 전 발생하는 오류: syntax error -> 실행조차 불가능\n",
    "# 프로그램 실행 중 발생하는 오류: exception or runtime error"
   ]
  },
  {
   "cell_type": "code",
   "execution_count": 3,
   "id": "27deb4b8-9ce7-48fe-ad1d-6fba19ad145d",
   "metadata": {},
   "outputs": [],
   "source": [
    "# 예외 처리(exception handling)\n",
    "\n",
    "# 예외 처리 법\n",
    "# 1: 조건문 사용\n",
    "# 2: try 구문 사용"
   ]
  },
  {
   "cell_type": "code",
   "execution_count": 15,
   "id": "a634f268-8647-471e-9b2c-8a20853b8448",
   "metadata": {},
   "outputs": [
    {
     "name": "stdin",
     "output_type": "stream",
     "text": [
      "정수 입력>  ㅁ\n"
     ]
    },
    {
     "name": "stdout",
     "output_type": "stream",
     "text": [
      "정수를 입력하세요\n"
     ]
    }
   ],
   "source": [
    "# 조건문 사용 예\n",
    "\n",
    "user_input = input(\"정수 입력> \")\n",
    "\n",
    "# 정수가 아닌 경우 예외처리를 통해 프로그램이 원활하게 돌아가도록 함\n",
    "if user_input.isdigit():\n",
    "    number_input = int(user_input)\n",
    "    print(user_input)\n",
    "else:\n",
    "    print(\"정수를 입력하세요\")"
   ]
  },
  {
   "cell_type": "code",
   "execution_count": 17,
   "id": "11a1ca87-aedb-4570-90a8-ac5e9faac7e8",
   "metadata": {},
   "outputs": [],
   "source": [
    "# try except 구문\n",
    "\n",
    "# try:\n",
    "#     예외가 발생할 가능성이 있는 코드\n",
    "# except:\n",
    "#     예외가 발생했을 때 실행할 코드"
   ]
  },
  {
   "cell_type": "code",
   "execution_count": 21,
   "id": "1d1ee035-b555-4540-9243-dd0eacf71498",
   "metadata": {},
   "outputs": [
    {
     "name": "stdin",
     "output_type": "stream",
     "text": [
      "정수 입력>  a\n"
     ]
    },
    {
     "name": "stdout",
     "output_type": "stream",
     "text": [
      "정수를 입력하세요\n"
     ]
    }
   ],
   "source": [
    "# try except 구문 사용 예\n",
    "\n",
    "user_input = input(\"정수 입력> \")\n",
    "\n",
    "# \btry 스코프 내에서 문제 발생 시 except 스코프로 넘어감\n",
    "try:\n",
    "    number_input = int(user_input)\n",
    "    print(user_input)\n",
    "except:\n",
    "    print(\"무언가 잘못 되었습니다\")"
   ]
  },
  {
   "cell_type": "code",
   "execution_count": 23,
   "id": "cf8fef38-f781-40c0-b83c-b75cd818dad5",
   "metadata": {},
   "outputs": [],
   "source": [
    "# pass 키워드\n",
    "\n",
    "# try:\n",
    "#     예외 발생 가능성이 있는 코드\n",
    "# except:\n",
    "#     pass"
   ]
  },
  {
   "cell_type": "code",
   "execution_count": 27,
   "id": "95365a1f-a970-4198-ba13-1766d677b530",
   "metadata": {},
   "outputs": [
    {
     "name": "stdout",
     "output_type": "stream",
     "text": [
      "['52', '273', '32', '스파이', '103'] 내부에 있는 숫자는\n",
      "['52', '273', '32', '103']입니다\n"
     ]
    }
   ],
   "source": [
    "# pass 키워드 활용 예시\n",
    "\n",
    "\n",
    "# 변수 선언\n",
    "list = ['52', '273', '32', '스파이', '103']\n",
    "\n",
    "list_num = []\n",
    "for item in list:\n",
    "    try:\n",
    "        float(item) # 예외 발생 시 except로 점프\n",
    "        list_num.append(item) # 예외 없으면 list_num에 넣어주기\n",
    "    except:\n",
    "        pass # 예외 발생인 경우 append해주지 않고 다음 반복으로 넘기기\n",
    "\n",
    "print(\"{} 내부에 있는 숫자는\".format(list))\n",
    "print(\"{}입니다\".format(list_num))"
   ]
  },
  {
   "cell_type": "code",
   "execution_count": 29,
   "id": "67dc9ae3-f014-4115-889b-0af768023c12",
   "metadata": {},
   "outputs": [],
   "source": [
    "# try except else 구문\n",
    "# try except 구문 뒤에 else 구문을 사용하면 \n",
    "# \"예외가 발생하지 않았을 때 실행할 코드\"를 지정할 수 있음\n",
    "\n",
    "# try:\n",
    "#     예외 발생 가능성이 있는 코드\n",
    "# except:\n",
    "#     예외가 발생했을 때 실행할 코드\n",
    "# else:\n",
    "#     예외가 발생하지 않았을 때 실행할 코드"
   ]
  },
  {
   "cell_type": "code",
   "execution_count": 35,
   "id": "1bc3d421-4e54-4c16-b72c-4876c330bc07",
   "metadata": {},
   "outputs": [
    {
     "name": "stdin",
     "output_type": "stream",
     "text": [
      "정수 입력>  1\n"
     ]
    },
    {
     "name": "stdout",
     "output_type": "stream",
     "text": [
      "1\n"
     ]
    }
   ],
   "source": [
    "# try except else 구문 사용 예시\n",
    "\n",
    "try:\n",
    "    # 숫자로 변환\n",
    "    number_input = int(input(\"정수 입력> \"))\n",
    "except:\n",
    "    print(\"정수를 입력하지 않았습니다.\")\n",
    "else:\n",
    "    # 예외가 발생하지 않았을 때 실행\n",
    "    print(number_input)"
   ]
  },
  {
   "cell_type": "code",
   "execution_count": 37,
   "id": "b664504e-3b77-4f46-a02e-c85e697cae99",
   "metadata": {},
   "outputs": [],
   "source": [
    "# finally 구문\n",
    "# 예외 처리의 마지막에 사용하는 구문 -> 무조건 실행할 코드를 지정\n",
    "\n",
    "# try:\n",
    "#     예외 발생 가능성이 있는 코드\n",
    "# except:\n",
    "#     예외가 발생했을 때 실행할 코드\n",
    "# else:\n",
    "#     예외가 발생하지 않았을 때 실행할 코드"
   ]
  },
  {
   "cell_type": "code",
   "execution_count": 41,
   "id": "b9ac3148-dac9-41b6-b093-d8bdd7acc418",
   "metadata": {},
   "outputs": [
    {
     "name": "stdin",
     "output_type": "stream",
     "text": [
      "정수 입력>  ㅁ\n"
     ]
    },
    {
     "name": "stdout",
     "output_type": "stream",
     "text": [
      "정수를 입력하지 않았습니다.\n",
      "일단 프로그램이 어떻게든 끝났습니다.\n"
     ]
    }
   ],
   "source": [
    "# try except else 구문 사용 예시\n",
    "\n",
    "try:\n",
    "    # 숫자로 변환\n",
    "    number_input = int(input(\"정수 입력> \"))\n",
    "    print(number_input)\n",
    "\n",
    "except:\n",
    "    print(\"정수를 입력하지 않았습니다.\")\n",
    "else:\n",
    "    # 예외가 발생하지 않았을 때 실행\n",
    "    print(\"예외가 발생하지 않았습니다.\")\n",
    "finally:\n",
    "    # 일단 예외가 뜨든 말든 실행되는 부분\n",
    "    print(\"일단 프로그램이 어떻게든 끝났습니다.\")    "
   ]
  },
  {
   "cell_type": "code",
   "execution_count": 43,
   "id": "12772819-c79f-45c1-bba7-00ef69b5baba",
   "metadata": {},
   "outputs": [],
   "source": [
    "# try 구문은 단독 사용 불가\n",
    "# -> 반드시 except 또는 finally 구문과 함께 사용해야 함\n",
    "\n",
    "# else 구문은 반드시 except 구문 뒤에 사용해야 함\n",
    "# finally 구문은 반드시 맨 마지막에 사용"
   ]
  },
  {
   "cell_type": "code",
   "execution_count": 47,
   "id": "b93f0b26-dc11-43b6-bdb5-3097824496e6",
   "metadata": {},
   "outputs": [
    {
     "name": "stdout",
     "output_type": "stream",
     "text": [
      "첫 줄\n",
      "try문 실행\n",
      "finally 구문 실행\n"
     ]
    }
   ],
   "source": [
    "# finally 구문 사용 예시\n",
    "\n",
    "def test():\n",
    "    print(\"첫 줄\")\n",
    "\n",
    "    try:\n",
    "        print(\"try문 실행\")\n",
    "        return # return을 통해 바로 나가줌\n",
    "        \n",
    "        print(\"return 후\") # 그래서 이건 실행 x\n",
    "    \n",
    "    finally:\n",
    "        print(\"finally 구문 실행\") # 하지만 얘는 무조건 실행됨\n",
    "    \n",
    "test()"
   ]
  },
  {
   "cell_type": "code",
   "execution_count": 51,
   "id": "0cd8518c-e220-4acc-aa99-59058085fbf2",
   "metadata": {},
   "outputs": [],
   "source": [
    "# try... 문을 이용한 파일처리 예시\n",
    "# finally를 사용하면 무조건 실행되는 것을 이용해 파일을 닫아줌\n",
    "\n",
    "def test(filename, text):\n",
    "\n",
    "    try:\n",
    "        # 파일 열기\n",
    "        file = open(filename, \"w\")\n",
    "        return # return을 통해 바로 나가줌\n",
    "        \n",
    "        file.write(text) # 그래서 이건 실행 x\n",
    "        \n",
    "    finally:\n",
    "        file.close # 하지만 얘는 무조건 실행됨 -> 파일이 무조건 닫힘\n",
    "    \n",
    "test(\"test.txt\", \"안녕하세요!\")"
   ]
  },
  {
   "cell_type": "code",
   "execution_count": 55,
   "id": "3345790f-c30b-47f2-a1d8-216d478581a8",
   "metadata": {},
   "outputs": [
    {
     "name": "stdout",
     "output_type": "stream",
     "text": [
      "프로그램 시작\n",
      "try문 실행\n",
      "finally 구문 실행\n",
      "프로그램 종료\n"
     ]
    }
   ],
   "source": [
    "# finally를 활용해 반복문 탈출시에도 처리 가능\n",
    "\n",
    "print(\"프로그램 시작\")\n",
    "\n",
    "while True:\n",
    "\n",
    "    try:\n",
    "        print(\"try문 실행\")\n",
    "        break # break문을 통해 바로 반복 종료\n",
    "        print(\"break 실행 후\") # 그래서 이건 실행 x\n",
    "    \n",
    "    finally:\n",
    "        print(\"finally 구문 실행\") # 하지만 얘는 무조건 실행됨\n",
    "    print(\"while문의 마지막 줄\")\n",
    "\n",
    "print(\"프로그램 종료\")"
   ]
  }
 ],
 "metadata": {
  "kernelspec": {
   "display_name": "Python 3 (ipykernel)",
   "language": "python",
   "name": "python3"
  },
  "language_info": {
   "codemirror_mode": {
    "name": "ipython",
    "version": 3
   },
   "file_extension": ".py",
   "mimetype": "text/x-python",
   "name": "python",
   "nbconvert_exporter": "python",
   "pygments_lexer": "ipython3",
   "version": "3.12.4"
  }
 },
 "nbformat": 4,
 "nbformat_minor": 5
}
