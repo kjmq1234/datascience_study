{
 "cells": [
  {
   "cell_type": "code",
   "execution_count": null,
   "id": "513b61c7-aeaf-41f0-84fe-20b2bab2bc41",
   "metadata": {},
   "outputs": [],
   "source": [
    "# 파이썬으로 모듈 만드는 법: 파이썬 파일 만들기 -> 외부에서 읽기\n",
    "# -> 다만 간단해서 모듈을 코드로 인식하고 실행하는 문제 발생\n"
   ]
  }
 ],
 "metadata": {
  "kernelspec": {
   "display_name": "Python 3 (ipykernel)",
   "language": "python",
   "name": "python3"
  },
  "language_info": {
   "codemirror_mode": {
    "name": "ipython",
    "version": 3
   },
   "file_extension": ".py",
   "mimetype": "text/x-python",
   "name": "python",
   "nbconvert_exporter": "python",
   "pygments_lexer": "ipython3",
   "version": "3.12.4"
  }
 },
 "nbformat": 4,
 "nbformat_minor": 5
}
