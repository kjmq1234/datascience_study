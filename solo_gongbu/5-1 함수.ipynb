{
 "cells": [
  {
   "cell_type": "code",
   "execution_count": 3,
   "id": "541f6f7d-16ee-4dac-a8a7-123193fffecd",
   "metadata": {},
   "outputs": [
    {
     "name": "stdout",
     "output_type": "stream",
     "text": [
      "ㅎㅇ\n",
      "ㅎㅇ\n",
      "ㅎㅇ\n"
     ]
    }
   ],
   "source": [
    "# 매개 변수가 없을 떄\n",
    "def print_3():\n",
    "    print(\"ㅎㅇ\")\n",
    "    print(\"ㅎㅇ\")\n",
    "    print(\"ㅎㅇ\")\n",
    "\n",
    "print_3()"
   ]
  },
  {
   "cell_type": "code",
   "execution_count": 3,
   "id": "da5b0ded-3196-4c92-91bd-4ca014262d95",
   "metadata": {},
   "outputs": [
    {
     "name": "stdout",
     "output_type": "stream",
     "text": [
      "ㅎㅇ\n",
      "ㅎㅇ\n",
      "ㅎㅇ\n"
     ]
    }
   ],
   "source": [
    "# 매개 변수가 있을 때\n",
    "def print_val(value, time):\n",
    "    for i in range(time):\n",
    "        print(value)\n",
    "\n",
    "print_val(\"안냐세요\", 3)"
   ]
  },
  {
   "cell_type": "code",
   "execution_count": 19,
   "id": "a5e85e29-b27b-42e7-8dea-df25b781e047",
   "metadata": {},
   "outputs": [
    {
     "name": "stdout",
     "output_type": "stream",
     "text": [
      "안냐세요 \n",
      "\n",
      "저는 \n",
      "\n",
      "김재민입니다 \n",
      "\n",
      "안냐세요 \n",
      "\n",
      "저는 \n",
      "\n",
      "김재민입니다 \n",
      "\n",
      "안냐세요 \n",
      "\n",
      "저는 \n",
      "\n",
      "김재민입니다 \n",
      "\n",
      "안냐세요 \n",
      "\n",
      "저는 \n",
      "\n",
      "김재민입니다 \n",
      "\n",
      "안냐세요 \n",
      "\n",
      "저는 \n",
      "\n",
      "김재민입니다 \n",
      "\n"
     ]
    }
   ],
   "source": [
    "# 가변 매개변수\n",
    "def print_val(time, *value):\n",
    "    for i in range(time):\n",
    "        for val in value:\n",
    "            print(\"{} \\n\".format(val))\n",
    "\n",
    "print_val(5, \"안냐세요\", '저는', '김재민입니다')"
   ]
  },
  {
   "cell_type": "code",
   "execution_count": 25,
   "id": "40ddb482-cf1f-49ec-aea6-dd3b2fc846e2",
   "metadata": {},
   "outputs": [
    {
     "name": "stdout",
     "output_type": "stream",
     "text": [
      "안냐세요\n",
      "안냐세요\n",
      "안냐세요\n",
      "안냐세요2\n",
      "안냐세요2\n"
     ]
    }
   ],
   "source": [
    "# 기본 매개 변수\n",
    "def print_val(value, time=2):\n",
    "    for i in range(time):\n",
    "        print(value)\n",
    "\n",
    "print_val(\"안냐세요\", 3)\n",
    "print_val(\"안냐세요2\")"
   ]
  },
  {
   "cell_type": "code",
   "execution_count": 29,
   "id": "3520f3ab-77e9-4893-81ba-6f795202ec93",
   "metadata": {},
   "outputs": [
    {
     "name": "stdout",
     "output_type": "stream",
     "text": [
      "21\n",
      "121\n"
     ]
    }
   ],
   "source": [
    "# 확인문제 1\n",
    "\n",
    "def f(x):\n",
    "    return 2*x + 1\n",
    "\n",
    "def f2(x):\n",
    "    return x ** 2 + 2 * x + 1\n",
    "\n",
    "print(f(10))\n",
    "print(f2(10))"
   ]
  },
  {
   "cell_type": "code",
   "execution_count": 39,
   "id": "040deb37-3fc9-4102-8185-fb7bed9f91ee",
   "metadata": {},
   "outputs": [
    {
     "name": "stdout",
     "output_type": "stream",
     "text": [
      "3150\n"
     ]
    }
   ],
   "source": [
    "# 확인문제 2\n",
    "\n",
    "def mul(*values):\n",
    "    result = 1\n",
    "    for val in values:\n",
    "        result *= val\n",
    "    return (result)\n",
    "\n",
    "print(mul(5, 7, 9, 10))"
   ]
  }
 ],
 "metadata": {
  "kernelspec": {
   "display_name": "Python 3 (ipykernel)",
   "language": "python",
   "name": "python3"
  },
  "language_info": {
   "codemirror_mode": {
    "name": "ipython",
    "version": 3
   },
   "file_extension": ".py",
   "mimetype": "text/x-python",
   "name": "python",
   "nbconvert_exporter": "python",
   "pygments_lexer": "ipython3",
   "version": "3.12.4"
  }
 },
 "nbformat": 4,
 "nbformat_minor": 5
}
