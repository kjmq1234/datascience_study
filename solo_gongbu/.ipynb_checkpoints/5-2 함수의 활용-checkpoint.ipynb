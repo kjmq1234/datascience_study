{
 "cells": [
  {
   "cell_type": "code",
   "execution_count": 7,
   "id": "c0996e3c-8290-4c17-be3a-d9bebff428b6",
   "metadata": {},
   "outputs": [
    {
     "name": "stdout",
     "output_type": "stream",
     "text": [
      "이 경우 리스트 안에 리스트가 들어있는 [5, 6]은 평탄화가 불가능하다\n",
      "[1, 2, 3, 4, [5, 6], 7, 8, 9]\n"
     ]
    }
   ],
   "source": [
    "# 리스트 평탄화\n",
    "\n",
    "def flatten(data):\n",
    "    output = []\n",
    "    for item in data:\n",
    "        if type(item) == list:\n",
    "            output.extend(item)\n",
    "        else:\n",
    "            output.append(item)\n",
    "    return (output)\n",
    "\n",
    "\n",
    "print(\"이 경우 리스트 안에 리스트가 들어있는 [5, 6]은 평탄화가 불가능하다\")\n",
    "print(flatten([[1, 2, 3], [4, [5, 6]], 7, [8, 9]]))"
   ]
  },
  {
   "cell_type": "code",
   "execution_count": 7,
   "id": "dc24b2f6-eb10-4503-9b99-831b1cf76c12",
   "metadata": {},
   "outputs": [
    {
     "name": "stdout",
     "output_type": "stream",
     "text": [
      "이 경우 리스트 안에 리스트가 들어있는 [5, 6]은 평탄화가 불가능하다\n",
      "[1, 2, 3, 4, [5, 6], 7, 8, 9]\n"
     ]
    }
   ],
   "source": [
    "# 리스트 평탄화 2\n",
    "\n",
    "def flatten(data):\n",
    "    output = []\n",
    "    for item in data:\n",
    "        if type(item) == list:\n",
    "            output.extend(flatten(item)) # flatten을 재귀하면서 몇 계층의 리스트 중첩이 있어도 평탄화 가능\n",
    "        else:\n",
    "            output.append(item)\n",
    "    return (output)\n",
    "\n",
    "\n",
    "print(flatten([[1, 2, 3], [4, [5, 6]], 7, [8, 9]]))"
   ]
  }
 ],
 "metadata": {
  "kernelspec": {
   "display_name": "Python 3 (ipykernel)",
   "language": "python",
   "name": "python3"
  },
  "language_info": {
   "codemirror_mode": {
    "name": "ipython",
    "version": 3
   },
   "file_extension": ".py",
   "mimetype": "text/x-python",
   "name": "python",
   "nbconvert_exporter": "python",
   "pygments_lexer": "ipython3",
   "version": "3.12.4"
  }
 },
 "nbformat": 4,
 "nbformat_minor": 5
}
