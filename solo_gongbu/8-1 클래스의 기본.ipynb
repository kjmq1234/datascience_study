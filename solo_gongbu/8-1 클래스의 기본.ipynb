{
 "cells": [
  {
   "cell_type": "code",
   "execution_count": 1,
   "id": "9c8d236a-0ff8-4f49-9e16-9d822a3200f1",
   "metadata": {},
   "outputs": [],
   "source": [
    "# 객체 지향 프로그래밍: 객체를 우선으로 생각해 프로그래밍\n",
    "# 클래스를 기반으로 객체를 만듦"
   ]
  },
  {
   "cell_type": "code",
   "execution_count": 7,
   "id": "9febe135-2546-4fcb-82f5-aa14524342da",
   "metadata": {},
   "outputs": [
    {
     "name": "stdout",
     "output_type": "stream",
     "text": [
      "이름\t총점\t평균\n",
      "윤인성\t368\t92.0\n",
      "연하진\t384\t96.0\n",
      "구지연\t356\t89.0\n",
      "나선주\t378\t94.5\n",
      "윤아린\t389\t97.25\n",
      "윤명월\t336\t84.0\n"
     ]
    }
   ],
   "source": [
    "# 객체 만들기\n",
    "\n",
    "# 학생 리스트 선언\n",
    "# 딕셔너리로 표현한 학생 하나가 바로 객체 -> 여러가지 속성을 가질 수 있기에\n",
    "students = [\n",
    "    {\"name\": \"윤인성\", \"korean\": 87, \"math\": 98, \"english\": 88, \"science\": 95},\n",
    "    {\"name\": \"연하진\", \"korean\": 92, \"math\": 98, \"english\": 96, \"science\": 98},\n",
    "    {\"name\": \"구지연\", \"korean\": 76, \"math\": 96, \"english\": 94, \"science\": 90},\n",
    "    {\"name\": \"나선주\", \"korean\": 98, \"math\": 92, \"english\": 96, \"science\": 92},\n",
    "    {\"name\": \"윤아린\", \"korean\": 95, \"math\": 98, \"english\": 98, \"science\": 98},\n",
    "    {\"name\": \"윤명월\", \"korean\": 64, \"math\": 88, \"english\": 92, \"science\": 92},\n",
    "]\n",
    "\n",
    "# 한\b 명씩 반복해 출력\n",
    "print(\"이름\", \"총점\", \"평균\", sep='\\t')\n",
    "\n",
    "for student in students:\n",
    "    score_sum = student[\"korean\"] + student[\"math\"] + student[\"english\"] + student[\"science\"]\n",
    "    score_average = score_sum / 4\n",
    "    print(student[\"name\"], score_sum, score_average, sep=\"\\t\")\n",
    "\n",
    "# 이 방식대로 하면 딕셔너리로 객체를 하나하나 만들기에 복잡하고 귀찮음"
   ]
  },
  {
   "cell_type": "code",
   "execution_count": 11,
   "id": "d49cbe6c-d662-4336-ae39-96dd7d688dca",
   "metadata": {},
   "outputs": [
    {
     "name": "stdout",
     "output_type": "stream",
     "text": [
      "이름\t총점\t평균\n",
      "윤인성\t368\t92.0\n",
      "연하진\t214\t53.5\n"
     ]
    }
   ],
   "source": [
    "# 딕셔너리를 리턴하는 함수 생성으로 무한대로 객체 생성\n",
    "def create_student(name, korean, math, english, science):\n",
    "    return ( {\"name\": name, \"korean\": korean, \"math\": math, \"english\": english, \"science\": science})\n",
    "\n",
    "# 학생 리스트 선언\n",
    "students = [\n",
    "    create_student(\"윤인성\", 87, 98, 88, 95),\n",
    "    create_student(\"연하진\", 55, 33, 28, 98)\n",
    "]\n",
    "\n",
    "# 한\b 명씩 반복해 출력\n",
    "print(\"이름\", \"총점\", \"평균\", sep='\\t')\n",
    "\n",
    "for student in students:\n",
    "    score_sum = student[\"korean\"] + student[\"math\"] + student[\"english\"] + student[\"science\"]\n",
    "    score_average = score_sum / 4\n",
    "    print(student[\"name\"], score_sum, score_average, sep=\"\\t\")\n",
    "\n",
    "# 근데 여기서 모든 계산은 학생이 가지고 있는 변수로 일어남\n",
    "# -> 그럼 학생을 매개변수로 받으면 되는거 아닐까?"
   ]
  },
  {
   "cell_type": "code",
   "execution_count": 17,
   "id": "4ec43039-db0b-4c72-a8fd-f0d4cae4b0f1",
   "metadata": {},
   "outputs": [
    {
     "name": "stdout",
     "output_type": "stream",
     "text": [
      "이름\t총점\t평균\n",
      "윤인성\t368\t92.0\n",
      "연하진\t214\t53.5\n"
     ]
    }
   ],
   "source": [
    "# 딕셔너리를 리턴하는 함수 생성으로 무한대로 객체 생성\n",
    "def create_student(name, korean, math, english, science):\n",
    "    return ( {\"name\": name, \"korean\": korean, \"math\": math, \"english\": english, \"science\": science})\n",
    "\n",
    "# 통계를 처리하는 함수 선언\n",
    "def get_sum_student(student):\n",
    "    return student[\"korean\"] + student[\"math\"] + student[\"english\"] + student[\"science\"]\n",
    "\n",
    "def get_average(student):\n",
    "    return get_sum_student(student) / 4\n",
    "\n",
    "def print_student(student):\n",
    "    return \"{}\\t{}\\t{}\".format(student[\"name\"], get_sum_student(student), get_average(student))\n",
    "\n",
    "\n",
    "# 학생 리스트 선언\n",
    "students = [\n",
    "    create_student(\"윤인성\", 87, 98, 88, 95),\n",
    "    create_student(\"연하진\", 55, 33, 28, 98)\n",
    "]\n",
    "\n",
    "\n",
    "# 학생을 한 명씩 출력\n",
    "print(\"이름\", \"총점\", \"평균\", sep='\\t')\n",
    "for student in students:\n",
    "    print(print_student(student))\n",
    "\n",
    "# 코드가 분리되어 가독성이 좋아짐\n",
    "# 또, 학생을 관리하는 코드들을 분리할 수 있게 됨\n",
    "\n",
    "# 이러한 객체와 관련된 코드를 분리해 사용하는 것이 클래스 구조"
   ]
  },
  {
   "cell_type": "code",
   "execution_count": 19,
   "id": "c10e4120-516d-4b9c-9740-08d014de7086",
   "metadata": {},
   "outputs": [],
   "source": [
    "# 클래스 선언하기\n",
    "\n",
    "# class 클래스 이름:\n",
    "    # 클래스 내용"
   ]
  },
  {
   "cell_type": "code",
   "execution_count": 25,
   "id": "bfedad96-1edb-4437-b5cf-e8680d6fb5e4",
   "metadata": {},
   "outputs": [],
   "source": [
    "# 클래스는 생성자를 사용해서 객체를 만듬\n",
    "\n",
    "# 인스턴스 이름(변수 이름) = 클래스 이름()"
   ]
  },
  {
   "cell_type": "code",
   "execution_count": 29,
   "id": "bd132760-014f-46f9-a22e-03562e9c1139",
   "metadata": {},
   "outputs": [],
   "source": [
    "# 클래스 선언\n",
    "class Student:\n",
    "    pass\n",
    "\n",
    "# 학생 선언\n",
    "student = Student()\n",
    "\n",
    "# 학생 리스트 선언\n",
    "students = [\n",
    "    Student(),\n",
    "    Student(),\n",
    "    Student(),\n",
    "    Student(),\n",
    "    Student(),\n",
    "    Student()\n",
    "]"
   ]
  },
  {
   "cell_type": "code",
   "execution_count": 31,
   "id": "1c3f62ee-0f1b-48db-9899-7fe7275edb3d",
   "metadata": {},
   "outputs": [],
   "source": [
    "# 생성자: 클래스 이름과 같은 함수, 인스턴스 생성시에 반드시 실행\n",
    "\n",
    "# class 클래스 이름:\n",
    "    # def __init__(self, 추가적인 매개변수):\n",
    "    #     pass\n",
    "\n",
    "# 클래스의 멤버 함수는 반드시 첫 매개변수로 'self'를 입력해야 함\n",
    "# 이때 'self'는 'this'처럼 자기 자신을 나타내는 딕셔너리"
   ]
  },
  {
   "cell_type": "code",
   "execution_count": 35,
   "id": "9f587615-19dc-4d74-9c0d-0f3040e1a7e6",
   "metadata": {},
   "outputs": [
    {
     "name": "stdout",
     "output_type": "stream",
     "text": [
      "윤인성\n"
     ]
    }
   ],
   "source": [
    "# 클래스 선언\n",
    "class Student:\n",
    "    def __init__(self, name, korean, math, english, science):\n",
    "        self.name = name\n",
    "        self.korean = korean\n",
    "        self.math = math\n",
    "        self.english = english\n",
    "        self.science = science\n",
    "\n",
    "# 학생 리스트 선언\n",
    "students = [\n",
    "    Student(\"윤인성\", 87, 98, 88, 95),\n",
    "    Student(\"연하진\", 55, 33, 28, 98),\n",
    "    Student(\"연두색\", 15, 12, 24, 98),\n",
    "]\n",
    "\n",
    "# Student 인스턴스의 속성에 접근하는 법\n",
    "print(students[0].name)"
   ]
  },
  {
   "cell_type": "code",
   "execution_count": 37,
   "id": "53d5630d-00d0-45ca-ad64-b03dcaca4532",
   "metadata": {},
   "outputs": [],
   "source": [
    "# 소멸자: 인스턴스가 소멸될 때 호출되는 함수\n",
    "\n",
    "# class 클래스 이름:\n",
    "    # def __del__(self):\n",
    "    #     내용"
   ]
  },
  {
   "cell_type": "code",
   "execution_count": 39,
   "id": "bb745685-b910-4f6d-860f-b6a336cc7244",
   "metadata": {},
   "outputs": [],
   "source": [
    "# 메소드: 함수의 멤버 함수\n",
    "# 멤버 함수를 만들 때는 꼭 매개변수를 'self'로 시작해야 한다.\n",
    "\n",
    "# class 클래스 이름:\n",
    "#     def 메소드 이름(self, 매개 변수):\n",
    "#             pass"
   ]
  },
  {
   "cell_type": "code",
   "execution_count": 41,
   "id": "ccf0d224-6b10-4329-a08b-d6a66ef2905b",
   "metadata": {},
   "outputs": [
    {
     "name": "stdout",
     "output_type": "stream",
     "text": [
      "이름\t총점\t평균\n",
      "윤인성\t368\t92.0\n",
      "연하진\t214\t53.5\n"
     ]
    }
   ],
   "source": [
    "# 앞에서 구현했던 함수들을 클래스 내부에 구현\n",
    "\n",
    "# 클래스 선언\n",
    "class Student:\n",
    "    def __init__(self, name, korean, math, english, science):\n",
    "        self.name = name\n",
    "        self.korean = korean\n",
    "        self.math = math\n",
    "        self.english = english\n",
    "        self.science = science\n",
    "\n",
    "    def get_sum_student(self):\n",
    "        return self.korean + self.math + self.english + self.science\n",
    "\n",
    "    def get_average(self):\n",
    "        return self.get_sum_student() / 4\n",
    "\n",
    "    def print_student(student):\n",
    "        return \"{}\\t{}\\t{}\".format(self.name, self.get_sum_student(), self.get_average())\n",
    "\n",
    "\n",
    "# 학생 리스트 선언\n",
    "students = [\n",
    "    create_student(\"윤인성\", 87, 98, 88, 95),\n",
    "    create_student(\"연하진\", 55, 33, 28, 98)\n",
    "]\n",
    "\n",
    "\n",
    "# 학생을 한 명씩 출력\n",
    "print(\"이름\", \"총점\", \"평균\", sep='\\t')\n",
    "for student in students:\n",
    "    print(print_student(student))\n",
    "\n",
    "# 클래스의 멤버 함수/변수들을 사용하면서 매개변수를 넣지 않고 쓸 수 있게 됨"
   ]
  }
 ],
 "metadata": {
  "kernelspec": {
   "display_name": "Python 3 (ipykernel)",
   "language": "python",
   "name": "python3"
  },
  "language_info": {
   "codemirror_mode": {
    "name": "ipython",
    "version": 3
   },
   "file_extension": ".py",
   "mimetype": "text/x-python",
   "name": "python",
   "nbconvert_exporter": "python",
   "pygments_lexer": "ipython3",
   "version": "3.12.4"
  }
 },
 "nbformat": 4,
 "nbformat_minor": 5
}
