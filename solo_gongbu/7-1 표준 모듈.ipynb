{
 "cells": [
  {
   "cell_type": "code",
   "execution_count": 1,
   "id": "9999a1ca-1a46-482a-9ec3-6f6951862373",
   "metadata": {},
   "outputs": [],
   "source": [
    "# 파이썬은 여러 변수와 함수를 가지고 있는 모듈을 통해 코드를 분리하고 공유\n",
    "# 내장 모듈: 파이썬이 기본적으로 가지고 있는 모듈\n",
    "# 외부 모듈: 외부에서 개인적으로 개발하고 공개한 모듈\n",
    "\n",
    "# 'import 모듈이름 as 사용할 이름' 형태로 사용"
   ]
  },
  {
   "cell_type": "code",
   "execution_count": 9,
   "id": "d3ce9252-a350-4869-a38d-52d1c268fc25",
   "metadata": {},
   "outputs": [
    {
     "name": "stdout",
     "output_type": "stream",
     "text": [
      "0.8414709848078965\n",
      "0.5403023058681398\n",
      "1.557407724654902\n"
     ]
    }
   ],
   "source": [
    "import math # 모듈 임포트\n",
    "\n",
    "print(math.sin(1)) # 내장 함수 사용\n",
    "print(math.cos(1))\n",
    "print(math.tan(1))"
   ]
  },
  {
   "cell_type": "code",
   "execution_count": 45,
   "id": "5de66cf3-8a41-4944-b5af-2bea2cfe6f4d",
   "metadata": {},
   "outputs": [],
   "source": [
    "# from 구문: 모듈에는 여러 함수/변수가 있는데, 그 중 필요한 것만 가지고 올 수 있는 구문\n",
    "# 이렇게 가져오면 앞에 모듈명을 안써도 사용 가능\n",
    "\n",
    "# 'from 모듈이름 import *'을 사용할 경우 모든 기능을 가져올 수 있음\n",
    "# 다만 이렇게하면 식별자 충돌 가능성이 있어 권장하지 않음\n",
    "# 모듈 이름과 같은 이름으로 파일을 저장할 경우 등의 상황에서 충돌 가능\n",
    "\n",
    "# 'from 모듈이름 import 대상 변수 또는 함수' 형식으로 사용"
   ]
  },
  {
   "cell_type": "code",
   "execution_count": 15,
   "id": "227bf66d-634f-427c-a2bd-3e3023394fa4",
   "metadata": {},
   "outputs": [
    {
     "name": "stdout",
     "output_type": "stream",
     "text": [
      "0.8414709848078965\n",
      "0.5403023058681398\n",
      "1.557407724654902\n"
     ]
    }
   ],
   "source": [
    "from math import sin, cos, tan\n",
    "\n",
    "print(sin(1)) # 내장 함수 바로 사용\n",
    "print(cos(1))\n",
    "print(tan(1))"
   ]
  },
  {
   "cell_type": "code",
   "execution_count": 19,
   "id": "09f7cfe7-5f7c-49d2-a0c9-ab1437f9d9c7",
   "metadata": {},
   "outputs": [],
   "source": [
    "# as구문: 별명을 지어주는 구문, 이름 충돌이 발생하거나 모듈 이름이 긴 경우 사용\n",
    "\n",
    "# 'import 모듈 as 이름'형식으로 사용"
   ]
  },
  {
   "cell_type": "code",
   "execution_count": 23,
   "id": "7da1dee8-895a-4988-94cb-1234b6554e4d",
   "metadata": {},
   "outputs": [
    {
     "name": "stdout",
     "output_type": "stream",
     "text": [
      "0.8414709848078965\n",
      "0.5403023058681398\n",
      "1.557407724654902\n"
     ]
    }
   ],
   "source": [
    "import math as m\n",
    "\n",
    "print(m.sin(1)) # 내장 함수 별칭 사용\n",
    "print(m.cos(1))\n",
    "print(m.tan(1))"
   ]
  },
  {
   "cell_type": "code",
   "execution_count": 43,
   "id": "ed824cd4-5748-4671-b2ca-4072a1a24336",
   "metadata": {},
   "outputs": [
    {
     "name": "stdout",
     "output_type": "stream",
     "text": [
      "random(): 0.19774559401599867\n",
      "uniform(min, max): 11.386923582254179\n",
      "randrange(min, max): 4\n",
      "choice([]):  1\n",
      "shuffle([]):  None\n",
      "sample([]):  [5, 3]\n"
     ]
    }
   ],
   "source": [
    "# random 모듈\n",
    "\n",
    "import random\n",
    "\n",
    "# random(): 0~1 사이의 float 리턴\n",
    "print('random():', random.random())\n",
    "\n",
    "# uniform(): 지정한 범위 사이의 float 리턴\n",
    "print('uniform(min, max):', random.uniform(10, 20))\n",
    "\n",
    "# randrange(min, max): 지정한 범위의 int를 리턴\n",
    "# 이때 매개변수가 하나만 있으면 max\n",
    "print('randrange(min, max):', random.randrange(10))\n",
    "\n",
    "# choice(list): 리스트 내부에서 랜덤으로 선택\n",
    "print(\"choice([]): \", random.choice([1, 2, 3, 4, 5]))\n",
    "\n",
    "# shuffle(list): 리스트의 요소를 랜덤하게 섞기\n",
    "print(\"shuffle([]): \", random.shuffle([1, 2, 3, 4, 5]))\n",
    "\n",
    "# sample(list, k=숫자): 리스트의 요소 중 n개를 뽑기\n",
    "print(\"sample([]): \", random.sample([1, 2, 3, 4, 5], 2))"
   ]
  },
  {
   "cell_type": "code",
   "execution_count": 69,
   "id": "c368e552-571b-4b7e-a3da-2739fec12661",
   "metadata": {},
   "outputs": [
    {
     "name": "stdout",
     "output_type": "stream",
     "text": [
      "현재 운영체제:  posix\n",
      "현재 폴더:  /Users/jammin/데싸재활프로젝트/solo_gongbu\n",
      "현재 폴더 내부 요소:  <built-in function listdir>\n"
     ]
    },
    {
     "name": "stderr",
     "output_type": "stream",
     "text": [
      "sh: dir: command not found\n"
     ]
    },
    {
     "data": {
      "text/plain": [
       "32512"
      ]
     },
     "execution_count": 69,
     "metadata": {},
     "output_type": "execute_result"
    }
   ],
   "source": [
    "# os 모듈\n",
    "import os\n",
    "\n",
    "# 기본 정보 출력\n",
    "print(\"현재 운영체제: \", os.name)\n",
    "print(\"현재 폴더: \", os.getcwd())\n",
    "print(\"현재 폴더 내부 요소: \", os.listdir)\n",
    "\n",
    "# 폴더를 만들고 제거(폴더가 비어있을 때만 제거 가능)\n",
    "os.mkdir(\"origninal.txt\")\n",
    "os.rmdir(\"origninal.txt\")\n",
    "\n",
    "# 파일 생성 후 이름 변경\n",
    "with open(\"original\", \"w\") as file:\n",
    "    file.write(\"hello\")\n",
    "os.rename(\"original\", \"new\")\n",
    "\n",
    "# 파일 제거\n",
    "os.remove(\"new\")\n",
    "\n",
    "# 시스템 명령어 실행\n",
    "os.system(\"dir\")"
   ]
  },
  {
   "cell_type": "code",
   "execution_count": 95,
   "id": "b6833863-62c9-4f8f-ae47-13e3ce524f1e",
   "metadata": {},
   "outputs": [
    {
     "name": "stdout",
     "output_type": "stream",
     "text": [
      "2025 년 3 월 3 일 23 시 44 분 31 초 \n",
      "2025.03.03 23:44:31\n",
      "2025년 3월 3일 23시 44분 31초\n",
      "2025년 03월 03일 23시 44분 31초\n"
     ]
    }
   ],
   "source": [
    "# datetime: 날짜, 시간과 관련된 모듈, 날짜 형식을 만들 때 주로 사용\n",
    "\n",
    "import datetime\n",
    "\n",
    "# 현재 시각 구하기\n",
    "now = datetime.datetime.now()\n",
    "print(now.year,\"년\",end=\" \")\n",
    "print(now.month,\"월\" , end=\" \")\n",
    "print(now.day,\"일\", end=\" \")\n",
    "print(now.hour,\"시\", end=\" \")\n",
    "print(now.minute,\"분\", end=\" \")\n",
    "print(now.second,\"초\", end=\" \")\n",
    "print()\n",
    "\n",
    "# 시간 포멧에 맞춰 출력\n",
    "print(now.strftime(\"%Y.%m.%d %H:%M:%S\")) # 명세는 치환되고 그냥 문자는 남아있게됨\n",
    "\n",
    "# {}에 시간을 넣는 방법\n",
    "print(now.strftime(\"{}년 {}월 {}일 {}시 {}분 {}초\".format(now.year, now.month, now.day, now.hour, now.minute, now.second)))\n",
    "\n",
    "# 명세를 사용하며 {}에 들어갈 문자를 지정하는 방법\n",
    "print(now.strftime(\"%Y{} %m{} %d{} %H{} %M{} %S{}\".format(*\"년월일시분초\")))# 이때 *을 사용한 뒤 뒤에 리스트나 문자열을 넣으면 요소 하나하나가 매개변수로 지정"
   ]
  },
  {
   "cell_type": "code",
   "execution_count": 103,
   "id": "d620d867-4623-4727-a6c0-ac9cfeecf98b",
   "metadata": {},
   "outputs": [
    {
     "name": "stdout",
     "output_type": "stream",
     "text": [
      "2025년 03월 12일 01시 08분 10초\n",
      "2025년 03월 04일 00시 07분 09초\n"
     ]
    }
   ],
   "source": [
    "# 시간 편집해서 처리하기\n",
    "\n",
    "import datetime\n",
    "now = datetime.datetime.now()\n",
    "\n",
    "# 시간 더하기\n",
    "after = now + datetime.timedelta(weeks=1,days=1,hours=1,minutes=1,seconds=1) # timedelta 함수를 통해 현재 시간에 더해주기\n",
    "print(after.strftime(\"%Y{} %m{} %d{} %H{} %M{} %S{}\".format(*\"년월일시분초\")))\n",
    "\n",
    "output = now.replace(year = now.year + 1) # now.replace(바꿔줄 시간)로 시간 변경\n",
    "print(now.strftime(\"%Y{} %m{} %d{} %H{} %M{} %S{}\".format(*\"년월일시분초\")))"
   ]
  },
  {
   "cell_type": "code",
   "execution_count": 107,
   "id": "8c61c066-4638-41c3-9ac3-66b7a9779a0f",
   "metadata": {},
   "outputs": [
    {
     "name": "stdout",
     "output_type": "stream",
     "text": [
      "지금부터 5초 정지\n",
      "프로그램 종료\n"
     ]
    }
   ],
   "source": [
    "# time 모듈: 시간과 관련된 기능\n",
    "# 유닉스 타임을 기준으로 시간을 구할 때, 특정 시간 동안 시간 정지할 때 사용\n",
    "\n",
    "import time\n",
    "\n",
    "print(\"지금부터 5초 정지\")\n",
    "time.sleep(5) # sleep 함수를 통해 정지\n",
    "print(\"프로그램 종료\")"
   ]
  },
  {
   "cell_type": "code",
   "execution_count": 121,
   "id": "f6100e18-5f54-408a-b9d5-7a79eff37432",
   "metadata": {},
   "outputs": [
    {
     "name": "stdout",
     "output_type": "stream",
     "text": [
      "<http.client.HTTPResponse object at 0x15785b430>\n"
     ]
    }
   ],
   "source": [
    "# urllib 모듈: URL을 다루는 라이브러리\n",
    "\n",
    "from urllib import request\n",
    "\n",
    "# urlopen() 함수로 구글 페이지 읽기\n",
    "target = request.urlopen(\"https://google.com\")\n",
    "output = target.read()\n",
    "\n",
    "# 출력\n",
    "print(target)"
   ]
  },
  {
   "cell_type": "code",
   "execution_count": null,
   "id": "0cd248b2-f78f-4981-bbf7-6c7c5b1ffd00",
   "metadata": {},
   "outputs": [],
   "source": []
  }
 ],
 "metadata": {
  "kernelspec": {
   "display_name": "Python 3 (ipykernel)",
   "language": "python",
   "name": "python3"
  },
  "language_info": {
   "codemirror_mode": {
    "name": "ipython",
    "version": 3
   },
   "file_extension": ".py",
   "mimetype": "text/x-python",
   "name": "python",
   "nbconvert_exporter": "python",
   "pygments_lexer": "ipython3",
   "version": "3.12.4"
  }
 },
 "nbformat": 4,
 "nbformat_minor": 5
}
